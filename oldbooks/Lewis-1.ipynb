{
 "cells": [
  {
   "cell_type": "code",
   "execution_count": 1,
   "metadata": {
    "collapsed": true
   },
   "outputs": [],
   "source": [
    "from http_directory import resolve_link, ListingParser, download_directory\n",
    "import numpy as np\n",
    "import matplotlib.pyplot as plt\n",
    "from kernels import Kernels\n",
    "from smoothnk import smoothn\n",
    "%matplotlib inline\n",
    "\n",
    "getdata = False\n",
    "\n",
    "if getdata:\n",
    "    url = 'http://gws-access.cems.rl.ac.uk/public/globalbedo/.stackXY2/'\n",
    "    download_directory(url, 'tmp')\n"
   ]
  },
  {
   "cell_type": "code",
   "execution_count": null,
   "metadata": {
    "collapsed": true
   },
   "outputs": [],
   "source": []
  },
  {
   "cell_type": "code",
   "execution_count": 6,
   "metadata": {
    "collapsed": false
   },
   "outputs": [
    {
     "name": "stdout",
     "output_type": "stream",
     "text": [
      "->2005, 1<-\n",
      "->2005, 2<-\n",
      "->2005, 3<-\n",
      "->2005, 4<-\n",
      "->2005, 5<-\n",
      "->2005, 6<-\n",
      "->2005, 7<-\n",
      "->2005, 8<-\n",
      "->2005, 9<-\n",
      "->2005, 10<-\n",
      "->2005, 11<-\n",
      "->2005, 12<-\n"
     ]
    }
   ],
   "source": [
    "years = [ 2005 ]\n",
    "months = np.arange(1,13)\n",
    "#months = [6]\n",
    "QA_OK = np.array([8, 72, 136, 200, 1032, 1288, 2056, 2120, 2184,  2248])\n",
    "\n",
    "for year in years:\n",
    "    nsamples = 0\n",
    "    for month in months:\n",
    "        fname = \"MODIS_BRDF/hainich_%04d_%02d.txt\" % ( year, month )\n",
    "        reflt = np.loadtxt ( fname, delimiter=\";\", usecols=np.arange(15,22) )/10000.\n",
    "        nsamples += reflt.shape[0]\n",
    "            \n",
    "    doys = np.empty ( nsamples )\n",
    "    qa = np.empty ( nsamples )\n",
    "    qa_pass = np.empty ( nsamples )\n",
    "    refl = np.empty ( (nsamples,7) )\n",
    "    angs = np.empty ( (nsamples,4) )\n",
    "\n",
    "    istart = 0\n",
    "    for month in months:\n",
    "        print \"->%d, %d<-\" % ( year, month )\n",
    "        fname = \"MODIS_BRDF/hainich_%04d_%02d.txt\" % ( year, month )\n",
    "        doyt = np.loadtxt ( fname, delimiter=\";\", usecols=[2] ) - year*1000\n",
    "        n = len(doyt)\n",
    "        doys[istart:(istart+n)] = doyt\n",
    "        reflt = np.loadtxt ( fname, delimiter=\";\", usecols=np.arange(15,22) )/10000.\n",
    "        refl[istart:(istart+n),:] = reflt\n",
    "        angst = np.loadtxt ( fname, delimiter=\";\", usecols=np.arange (11,15))/100.\n",
    "        angs[istart:(istart+n), :] = angst\n",
    "        #angs are sza,vza,saa,vaa\n",
    "        qa1kt = np.loadtxt ( fname, delimiter=\";\", usecols=[10] )\n",
    "        qa[istart:(istart+n)] = qa1kt\n",
    "\n",
    "        qa_passt = np.logical_or.reduce([qa1kt == x for x in QA_OK ])\n",
    "        qa_passt = qa_passt.astype(np.int8)\n",
    "        qa_pass[istart:(istart+n)] = qa_passt\n",
    "        istart = istart + n\n",
    "\n",
    "    #qa_pass[~np.logical_and(doys>=80,doys<96)] = False\n",
    "    K_obs =  Kernels( angs[:,1], angs[:,0], angs[:,2] - angs[:,3], \\\n",
    "            LiType='Sparse', doIntegrals=False, \\\n",
    "            normalise=1, RecipFlag=True, RossHS=False, MODISSPARSE=True, \\\n",
    "            RossType='Thick')\n",
    "    li = K_obs.Li\n",
    "    ross = K_obs.Ross\n",
    "        "
   ]
  },
  {
   "cell_type": "code",
   "execution_count": 7,
   "metadata": {
    "collapsed": false
   },
   "outputs": [
    {
     "name": "stdout",
     "output_type": "stream",
     "text": [
      "(162, 7) (162, 7)\n",
      "(365, 7)\n"
     ]
    }
   ],
   "source": [
    "r = np.array(refl[qa_pass.astype(bool)])\n",
    "r0 = np.array(refl[qa_pass.astype(bool)]) >0\n",
    "k1 = np.array([ross[qa_pass.astype(bool)]]*7).T\n",
    "k2 = np.array([li[qa_pass.astype(bool)]]*7).T\n",
    "k0 = np.array(np.ones_like(k1))\n",
    "doy = np.array([doys[qa_pass.astype(bool)]])[0].astype(int)\n",
    "print r.shape,k1.shape\n",
    "\n",
    "alldoys = np.arange(0,365)\n",
    "# expand array\n",
    "nb = r.shape[1]\n",
    "k00_ = np.zeros((365,)+(nb,))\n",
    "k01_ = np.zeros_like(k00_)\n",
    "k02_ = np.zeros_like(k00_)\n",
    "k11_ = np.zeros_like(k00_)\n",
    "k12_ = np.zeros_like(k00_)\n",
    "k22_ = np.zeros_like(k00_)\n",
    "\n",
    "rk0_ = np.zeros((365,)+(nb,))\n",
    "rk1_ = np.zeros_like(k00_)\n",
    "rk2_ = np.zeros_like(k00_)\n",
    "\n",
    "for i,d in enumerate(doy):\n",
    "    k00_[d] += 1\n",
    "    k01_[d] += k1[i]\n",
    "    k02_[d] += k2[i]\n",
    "    k11_[d] += k1[i]*k1[i]\n",
    "    k12_[d] += k1[i]*k2[i]\n",
    "    k22_[d] += k2[i]*k2[i]\n",
    "    rk0_[d] += r[i]\n",
    "    rk1_[d] += r[i]*k1[i]\n",
    "    rk2_[d] += r[i]*k2[i]\n",
    "    \n",
    "D = [k00_,k01_,k02_,k11_,k12_,k22_,rk0_,rk1_,rk2_]    \n",
    "    \n",
    "print k00_.shape"
   ]
  },
  {
   "cell_type": "code",
   "execution_count": 11,
   "metadata": {
    "collapsed": false
   },
   "outputs": [
    {
     "data": {
      "text/plain": [
       "[<matplotlib.lines.Line2D at 0x10c39ed10>]"
      ]
     },
     "execution_count": 11,
     "metadata": {},
     "output_type": "execute_result"
    },
    {
     "data": {
      "image/png": "[encoded data removed]",
      "text/plain": [
       "<matplotlib.figure.Figure at 0x10c610d50>"
      ]
     },
     "metadata": {},
     "output_type": "display_data"
    }
   ],
   "source": [
    "plt.plot(doy,(r[:,1]-r[:,0])/(r[:,1]+r[:,0]))"
   ]
  },
  {
   "cell_type": "code",
   "execution_count": 21,
   "metadata": {
    "collapsed": false
   },
   "outputs": [],
   "source": [
    "NIR = np.array([0.085,0.693,-0.146,0.176,0.146,0,0.043])\n",
    "NIRoff = -0.0021\n",
    "NIR = np.array([0.,1,0,0,0,0,0.])\n",
    "NIRoff = 0.\n",
    "\n",
    "#for dd in D:\n",
    "#    print (np.dot(dd,NIR) + NIRoff).shape"
   ]
  },
  {
   "cell_type": "code",
   "execution_count": 22,
   "metadata": {
    "collapsed": false
   },
   "outputs": [
    {
     "name": "stdout",
     "output_type": "stream",
     "text": [
      "(11, 1, 3)\n"
     ]
    }
   ],
   "source": [
    "\n",
    "result = []\n",
    "dresult = []\n",
    "for d in xrange(0,365,8):\n",
    "    try:\n",
    "        mask = np.logical_and(alldoys>=d,alldoys<d+16)\n",
    "    except:\n",
    "        mask = alldoys>=d\n",
    "    k00,k01,k02,k11,k12,k22,rk0,rk1,rk2  = [np.dot(dd[mask],NIR)+NIRoff for dd in D]\n",
    "    if k00.sum(axis=-1) >= 12:\n",
    "        M = np.array([[k00,k01,k02],[k01,k11,k12],[k02,k12,k22]])\n",
    "        a = np.array([rk0,rk1,rk2])\n",
    "        #print d,np.linalg.lstsq(M.sum(axis=2),a.sum(axis=1))[0]\n",
    "        result.append([np.linalg.lstsq(M.sum(axis=2),a.sum(axis=1))[0]])\n",
    "        dresult.append(d)\n",
    "result = np.array(result)\n",
    "dresult = np.array(dresult)\n",
    "\n",
    "print result.shape"
   ]
  },
  {
   "cell_type": "code",
   "execution_count": 23,
   "metadata": {
    "collapsed": false
   },
   "outputs": [
    {
     "data": {
      "text/plain": [
       "[<matplotlib.lines.Line2D at 0x10cac63d0>]"
      ]
     },
     "execution_count": 23,
     "metadata": {},
     "output_type": "execute_result"
    },
    {
     "data": {
      "image/png": "[encoded data removed]",
      "text/plain": [
       "<matplotlib.figure.Figure at 0x10cac6b90>"
      ]
     },
     "metadata": {},
     "output_type": "display_data"
    }
   ],
   "source": [
    "plt.plot(dresult,result[:,0,0])\n",
    "plt.plot(dresult,result[:,0,0],'rx')\n",
    "\n",
    "\n",
    "#plt.ylim(0,.5)"
   ]
  },
  {
   "cell_type": "code",
   "execution_count": null,
   "metadata": {
    "collapsed": true
   },
   "outputs": [],
   "source": [
    "\n",
    "np.array(refl[qa_pass.astype(bool)])\n",
    "r0 = np.array(refl[qa_pass.astype(bool)]) >0\n",
    "k1 = np.array([ross[qa_pass.astype(bool)]]*7).T\n",
    "k2 = np.array([li[qa_pass.astype(bool)]]*7).T\n",
    "\n",
    "\n",
    "dataset = np.zeros((rk.shape[0],)+(365,)+(rk.shape[2],))\n",
    "print doy\n",
    "for i,d in enumerate(doy):\n",
    "    dataset[:,d,:] += rk[:,i,:]\n",
    "print dataset.shape"
   ]
  },
  {
   "cell_type": "code",
   "execution_count": 311,
   "metadata": {
    "collapsed": false
   },
   "outputs": [
    {
     "name": "stdout",
     "output_type": "stream",
     "text": [
      "[[  3.65000000e+02   6.94501488e-01  -2.69478184e+01]\n",
      " [  6.94501488e-01   2.14911711e-01  -1.65173628e+00]\n",
      " [ -2.69478184e+01  -1.65173628e+00   8.35615401e+01]] [  4.3277       0.23224015 -13.28195573]\n",
      "[ 0.00020018 -0.16642351 -0.16217328]\n"
     ]
    }
   ],
   "source": [
    "refl =  dataset[0,:,6]\n",
    "ross = dataset[1,:,6]\n",
    "li =  dataset[2,:,6]\n",
    "\n",
    "K = np.array([np.ones_like(ross),ross,li])\n",
    "M = np.dot(K,K.T)\n",
    "a = np.dot(K,refl)\n",
    "print M,a\n",
    "\n",
    "print np.linalg.lstsq(M,a)[0]\n"
   ]
  },
  {
   "cell_type": "code",
   "execution_count": 280,
   "metadata": {
    "collapsed": false
   },
   "outputs": [
    {
     "name": "stdout",
     "output_type": "stream",
     "text": [
      "10\n"
     ]
    }
   ],
   "source": [
    "z = smoothn(dataset,axis=1,isrobust=True,s=10)\n",
    "print z[1]\n",
    "num = z[0]\n",
    "denom = num[0]\n",
    "result = num/denom"
   ]
  },
  {
   "cell_type": "code",
   "execution_count": 281,
   "metadata": {
    "collapsed": false
   },
   "outputs": [
    {
     "name": "stdout",
     "output_type": "stream",
     "text": [
      "[-0.05196238  0.84871361  0.02882429]\n"
     ]
    },
    {
     "data": {
      "text/plain": [
       "[<matplotlib.lines.Line2D at 0x10c3de650>]"
      ]
     },
     "execution_count": 281,
     "metadata": {},
     "output_type": "execute_result"
    },
    {
     "data": {
      "image/png": "[encoded data removed]",
      "text/plain": [
       "<matplotlib.figure.Figure at 0x10c0bf190>"
      ]
     },
     "metadata": {},
     "output_type": "display_data"
    }
   ],
   "source": [
    "rhs = result[1:4]\n",
    "lhs =  np.array([[result[4],result[5],result[6]],\\\n",
    "       [result[5],result[7],result[8]],\\\n",
    "       [result[6],result[8],result[9]]])\n",
    "params = np.zeros_like(rhs)\n",
    "rhs_ = rhs.sum(axis=1)\n",
    "lhs_ = lhs.sum(axis=2)\n",
    "b = 1\n",
    "print np.linalg.lstsq(lhs_[:,:,b],rhs_[:,0])[0]\n",
    "plt.plot(doy,r[:,b],'+')"
   ]
  },
  {
   "cell_type": "code",
   "execution_count": 282,
   "metadata": {
    "collapsed": false
   },
   "outputs": [],
   "source": [
    "for b in [7]:\n",
    "    for d in xrange(0,365,8):\n",
    "        try:\n",
    "            M_ = lhs[:,:,d:d+8,b]\n",
    "            a_ = rhs[:,d:d+8,b]\n",
    "        except:\n",
    "            M_ = lhs[:,:,d:,b]\n",
    "            a_ = rhs[:,d:,b] \n",
    "        n = M_.shape[2]\n",
    "        M_ = M_.sum(axis=2)\n",
    "        a_ = a_.sum(axis=1)\n",
    "        if n > 7:\n",
    "            params[:,d,b] = np.linalg.lstsq(M_,a_)[0]"
   ]
  },
  {
   "cell_type": "code",
   "execution_count": 283,
   "metadata": {
    "collapsed": false
   },
   "outputs": [
    {
     "data": {
      "text/plain": [
       "[<matplotlib.lines.Line2D at 0x10c657950>]"
      ]
     },
     "execution_count": 283,
     "metadata": {},
     "output_type": "execute_result"
    },
    {
     "data": {
      "image/png": "[encoded data removed]",
      "text/plain": [
       "<matplotlib.figure.Figure at 0x10bf29e10>"
      ]
     },
     "metadata": {},
     "output_type": "display_data"
    }
   ],
   "source": [
    "plt.plot(params[0,:,1])"
   ]
  },
  {
   "cell_type": "code",
   "execution_count": 271,
   "metadata": {
    "collapsed": false
   },
   "outputs": [],
   "source": [
    "for b in xrange(7):\n",
    "    for d in xrange(365):\n",
    "        M = lhs[:,:,d,b]\n",
    "        a = rhs[:,d,b]\n",
    "        params[:,d,b] = np.linalg.lstsq(M,a)[0]\n",
    "        "
   ]
  },
  {
   "cell_type": "code",
   "execution_count": 272,
   "metadata": {
    "collapsed": false
   },
   "outputs": [
    {
     "data": {
      "text/plain": [
       "[<matplotlib.lines.Line2D at 0x10bf1c550>]"
      ]
     },
     "execution_count": 272,
     "metadata": {},
     "output_type": "execute_result"
    },
    {
     "data": {
      "image/png": "[encoded data removed]",
      "text/plain": [
       "<matplotlib.figure.Figure at 0x10bc3ad10>"
      ]
     },
     "metadata": {},
     "output_type": "display_data"
    }
   ],
   "source": [
    "plt.plot(params[0,:,1])\n",
    "#plt.ylim(0,1)"
   ]
  },
  {
   "cell_type": "code",
   "execution_count": 169,
   "metadata": {
    "collapsed": false
   },
   "outputs": [
    {
     "data": {
      "text/plain": [
       "(3, 365, 7)"
      ]
     },
     "execution_count": 169,
     "metadata": {},
     "output_type": "execute_result"
    }
   ],
   "source": [
    "rhs.shape"
   ]
  },
  {
   "cell_type": "code",
   "execution_count": null,
   "metadata": {
    "collapsed": true
   },
   "outputs": [],
   "source": []
  }
 ],
 "metadata": {
  "kernelspec": {
   "display_name": "Python 2",
   "language": "python",
   "name": "python2"
  },
  "language_info": {
   "codemirror_mode": {
    "name": "ipython",
    "version": 2
   },
   "file_extension": ".py",
   "mimetype": "text/x-python",
   "name": "python",
   "nbconvert_exporter": "python",
   "pygments_lexer": "ipython2",
   "version": "2.7.11"
  }
 },
 "nbformat": 4,
 "nbformat_minor": 0
}
