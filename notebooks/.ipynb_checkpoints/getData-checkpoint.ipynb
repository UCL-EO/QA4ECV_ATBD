{
 "cells": [
  {
   "cell_type": "markdown",
   "metadata": {},
   "source": [
    "# GlobAlbedo and associated algorithms"
   ]
  },
  {
   "cell_type": "markdown",
   "metadata": {},
   "source": [
    "P. Lewis and M. van Leeuwen, UCL/NCEO"
   ]
  },
  {
   "cell_type": "markdown",
   "metadata": {},
   "source": [
    "This first notebook deals with downloading the data from the database and constructing suitable data structures.\n",
    "\n",
    "The various forms of (netcdf) inputs are read and the data organised as a set of arrays in set of dictionaries.\n",
    "\n",
    "These dictionaries are then 'pickled' (saved to disk) for direct use in further processing."
   ]
  },
  {
   "cell_type": "code",
   "execution_count": 2,
   "metadata": {
    "collapsed": false
   },
   "outputs": [
    {
     "name": "stdout",
     "output_type": "stream",
     "text": [
      "data directory /Users/plewis/QA4ECV_ATBD/data\n"
     ]
    }
   ],
   "source": [
    "from defaults import *\n",
    "%matplotlib inline\n",
    "db = 'http://gws-access.cems.rl.ac.uk/public/globalbedo/.stackXY2/'"
   ]
  },
  {
   "cell_type": "code",
   "execution_count": 24,
   "metadata": {
    "collapsed": false
   },
   "outputs": [
    {
     "name": "stdout",
     "output_type": "stream",
     "text": [
      "connecting to http://gws-access.cems.rl.ac.uk/public/globalbedo/.stackXY2/\n",
      "got urls\n",
      "prior.v1.nosnow/\n",
      ". . . . . . . . . . . . . . . . . . . . prior.v1.snow2/\n",
      ". . . . . . . . . . . . . . . . . . . . . . . . . . . . . . . . . . . . . . . . . . . . . . . . . . . . . . . . ga.brdf.snow/\n",
      ". . . . . . . . . . . . . . . . . . . . . . . . . . . . . . . . . . . . . . . . . . . . . . . . . . . . . . . . . . . . . bbdr.vgt/\n",
      ". . . . . . . . . . . . . . . . . . . . . . . . . . . prior.v2.snownosnow/\n",
      ". . . . . . . . . . . . . . . . . . . . . . . . . . . . . . . . . . . . . . . . . . . . . . . . . . . . . . . . . bbdr.flags/\n",
      "prior.v2.snow/\n",
      ". . . . . . . . . . . . . . . . . . . . . . . . . . . . . . . . . . . . . . . . . . . . . . . . . . . . . . . . . ga.brdf.merge/\n",
      ". . . . . . . . . . . . . . . . . . . . . . . . . . . . . . . . . . . . . . . . . . . . . . . . . . . . . . . . . . . . . . bbdr.meris/\n",
      ". . . . . . . . . . . . . . . . . . . . . . . . . . . mod09/\n",
      ". . . . . . . . . . . . . . . . . . . . . . ga.brdf.nosnow/\n",
      ". . . . . . . . . . . . . . . . . . . . . . . . . . . . . . . . . . . . . . . . . . . . . . . . . . . . . . . . . . . . . prior.v2.nosnow/\n",
      ". . . . . . . . . . . . . . . . . . . . . . . . . . . . . . . . . . . . . . . . . . . . . . . . . . . . . . . . . myd09/\n",
      ". . . . . . . . . . . . . . . . . . . . . . prior.v1.snow1/\n",
      ". . . . . . . . . . . . . . . . . . . . ['bbdr.flags' 'bbdr.meris' 'bbdr.vgt' 'ga.brdf.merge' 'ga.brdf.nosnow'\n",
      " 'ga.brdf.snow' 'mod09' 'myd09' 'prior.v1.nosnow' 'prior.v1.snow1'\n",
      " 'prior.v1.snow2' 'prior.v2.nosnow' 'prior.v2.snow' 'prior.v2.snownosnow']\n"
     ]
    }
   ],
   "source": [
    "'''\n",
    "Contact the server for a listing and \n",
    "if doit is True download the files and pack into\n",
    "the dictionary ncfiles. \n",
    "\n",
    "Actually, all we really need (to access pre-stored pickle files)\n",
    "is to set the variable  `datakeys`\n",
    "'''\n",
    "\n",
    "doit = True\n",
    "# set True if you want to download as well\n",
    "ncfiles = obtain_data(db,doit=doit)\n",
    "datakeys = ncfiles.keys()\n",
    "if None:\n",
    "    # this is most of them\n",
    "    \n",
    "#        'prior.v1.nosnow', 'prior.v1.snow1', 'prior.v1.snow2',\\\n",
    "\n",
    "print np.sort(datakeys)"
   ]
  },
  {
   "cell_type": "code",
   "execution_count": 25,
   "metadata": {
    "collapsed": false
   },
   "outputs": [
    {
     "name": "stdout",
     "output_type": "stream",
     "text": [
      "['bbdr.flags' 'bbdr.meris' 'bbdr.vgt' 'ga.brdf.merge' 'ga.brdf.nosnow'\n",
      " 'ga.brdf.snow' 'mod09' 'myd09' 'prior.v2.nosnow' 'prior.v2.snow'\n",
      " 'prior.v2.snownosnow']\n"
     ]
    }
   ],
   "source": [
    "# actually, we only want these particular datasets\n",
    "datakeys = np.array(['bbdr.flags', 'bbdr.meris', 'bbdr.vgt', 'ga.brdf.merge',\\\n",
    "       'ga.brdf.nosnow', 'ga.brdf.snow', 'mod09', 'myd09',\\\n",
    "       'prior.v2.nosnow', 'prior.v2.snow', 'prior.v2.snownosnow'])\n",
    "\n",
    "print np.sort(datakeys)"
   ]
  },
  {
   "cell_type": "code",
   "execution_count": 27,
   "metadata": {
    "collapsed": false
   },
   "outputs": [
    {
     "name": "stdout",
     "output_type": "stream",
     "text": [
      "bbdr.flags\n",
      "bbdr.meris\n",
      "bbdr.vgt\n",
      "ga.brdf.merge\n",
      "TIME\n",
      "ga.brdf.merge VAR_NIR_f0_NIR_f0 ; ga.brdf.merge VAR_NIR_f0_NIR_f1 ; ga.brdf.merge VAR_NIR_f0_NIR_f2 ; ga.brdf.merge VAR_NIR_f0_SW_f0 ; ga.brdf.merge VAR_NIR_f0_SW_f1 ; ga.brdf.merge VAR_NIR_f0_SW_f2 ; ga.brdf.merge VAR_NIR_f1_NIR_f1 ; ga.brdf.merge VAR_NIR_f1_NIR_f2 ; ga.brdf.merge VAR_NIR_f1_SW_f0 ; ga.brdf.merge VAR_NIR_f1_SW_f1 ; ga.brdf.merge VAR_NIR_f1_SW_f2 ; ga.brdf.merge VAR_NIR_f2_NIR_f2 ; ga.brdf.merge VAR_NIR_f2_SW_f0 ; ga.brdf.merge VAR_NIR_f2_SW_f1 ; ga.brdf.merge VAR_NIR_f2_SW_f2 ; ga.brdf.merge VAR_SW_f0_SW_f0 ; ga.brdf.merge VAR_SW_f0_SW_f1 ; ga.brdf.merge VAR_SW_f0_SW_f2 ; ga.brdf.merge VAR_SW_f1_SW_f1 ; ga.brdf.merge VAR_SW_f1_SW_f2 ; ga.brdf.merge VAR_SW_f2_SW_f2 ; ga.brdf.merge VAR_VIS_f0_NIR_f0 ; ga.brdf.merge VAR_VIS_f0_NIR_f1 ; ga.brdf.merge VAR_VIS_f0_NIR_f2 ; ga.brdf.merge VAR_VIS_f0_SW_f0 ; ga.brdf.merge VAR_VIS_f0_SW_f1 ; ga.brdf.merge VAR_VIS_f0_SW_f2 ; ga.brdf.merge VAR_VIS_f0_VIS_f0 ; ga.brdf.merge VAR_VIS_f0_VIS_f1 ; ga.brdf.merge VAR_VIS_f0_VIS_f2 ; ga.brdf.merge VAR_VIS_f1_NIR_f0 ; ga.brdf.merge VAR_VIS_f1_NIR_f1 ; ga.brdf.merge VAR_VIS_f1_NIR_f2 ; ga.brdf.merge VAR_VIS_f1_SW_f0 ; ga.brdf.merge VAR_VIS_f1_SW_f1 ; ga.brdf.merge VAR_VIS_f1_SW_f2 ; ga.brdf.merge VAR_VIS_f1_VIS_f1 ; ga.brdf.merge VAR_VIS_f1_VIS_f2 ; ga.brdf.merge VAR_VIS_f2_NIR_f0 ; ga.brdf.merge VAR_VIS_f2_NIR_f1 ; ga.brdf.merge VAR_VIS_f2_NIR_f2 ; ga.brdf.merge VAR_VIS_f2_SW_f0 ; ga.brdf.merge VAR_VIS_f2_SW_f1 ; ga.brdf.merge VAR_VIS_f2_SW_f2 ; ga.brdf.merge VAR_VIS_f2_VIS_f2 ; ga.brdf.merge mean_NIR_f0 ; ga.brdf.merge mean_NIR_f1 ; ga.brdf.merge mean_NIR_f2 ; ga.brdf.merge mean_SW_f0 ; ga.brdf.merge mean_SW_f1 ; ga.brdf.merge mean_SW_f2 ; ga.brdf.merge mean_VIS_f0 ; ga.brdf.merge mean_VIS_f1 ; ga.brdf.merge mean_VIS_f2 ; ga.brdf.nosnow\n",
      "TIME\n",
      "ga.brdf.nosnow VAR_NIR_f0_NIR_f0 ; ga.brdf.nosnow VAR_NIR_f0_NIR_f1 ; ga.brdf.nosnow VAR_NIR_f0_NIR_f2 ; ga.brdf.nosnow VAR_NIR_f0_SW_f0 ; ga.brdf.nosnow VAR_NIR_f0_SW_f1 ; ga.brdf.nosnow VAR_NIR_f0_SW_f2 ; ga.brdf.nosnow VAR_NIR_f1_NIR_f1 ; ga.brdf.nosnow VAR_NIR_f1_NIR_f2 ; ga.brdf.nosnow VAR_NIR_f1_SW_f0 ; ga.brdf.nosnow VAR_NIR_f1_SW_f1 ; ga.brdf.nosnow VAR_NIR_f1_SW_f2 ; ga.brdf.nosnow VAR_NIR_f2_NIR_f2 ; ga.brdf.nosnow VAR_NIR_f2_SW_f0 ; ga.brdf.nosnow VAR_NIR_f2_SW_f1 ; ga.brdf.nosnow VAR_NIR_f2_SW_f2 ; ga.brdf.nosnow VAR_SW_f0_SW_f0 ; ga.brdf.nosnow VAR_SW_f0_SW_f1 ; ga.brdf.nosnow VAR_SW_f0_SW_f2 ; ga.brdf.nosnow VAR_SW_f1_SW_f1 ; ga.brdf.nosnow VAR_SW_f1_SW_f2 ; ga.brdf.nosnow VAR_SW_f2_SW_f2 ; ga.brdf.nosnow VAR_VIS_f0_NIR_f0 ; ga.brdf.nosnow VAR_VIS_f0_NIR_f1 ; ga.brdf.nosnow VAR_VIS_f0_NIR_f2 ; ga.brdf.nosnow VAR_VIS_f0_SW_f0 ; ga.brdf.nosnow VAR_VIS_f0_SW_f1 ; ga.brdf.nosnow VAR_VIS_f0_SW_f2 ; ga.brdf.nosnow VAR_VIS_f0_VIS_f0 ; ga.brdf.nosnow VAR_VIS_f0_VIS_f1 ; ga.brdf.nosnow VAR_VIS_f0_VIS_f2 ; ga.brdf.nosnow VAR_VIS_f1_NIR_f0 ; ga.brdf.nosnow VAR_VIS_f1_NIR_f1 ; ga.brdf.nosnow VAR_VIS_f1_NIR_f2 ; ga.brdf.nosnow VAR_VIS_f1_SW_f0 ; ga.brdf.nosnow VAR_VIS_f1_SW_f1 ; ga.brdf.nosnow VAR_VIS_f1_SW_f2 ; ga.brdf.nosnow VAR_VIS_f1_VIS_f1 ; ga.brdf.nosnow VAR_VIS_f1_VIS_f2 ; ga.brdf.nosnow VAR_VIS_f2_NIR_f0 ; ga.brdf.nosnow VAR_VIS_f2_NIR_f1 ; ga.brdf.nosnow VAR_VIS_f2_NIR_f2 ; ga.brdf.nosnow VAR_VIS_f2_SW_f0 ; ga.brdf.nosnow VAR_VIS_f2_SW_f1 ; ga.brdf.nosnow VAR_VIS_f2_SW_f2 ; ga.brdf.nosnow VAR_VIS_f2_VIS_f2 ; ga.brdf.nosnow mean_NIR_f0 ; ga.brdf.nosnow mean_NIR_f1 ; ga.brdf.nosnow mean_NIR_f2 ; ga.brdf.nosnow mean_SW_f0 ; ga.brdf.nosnow mean_SW_f1 ; ga.brdf.nosnow mean_SW_f2 ; ga.brdf.nosnow mean_VIS_f0 ; ga.brdf.nosnow mean_VIS_f1 ; ga.brdf.nosnow mean_VIS_f2 ; ga.brdf.snow\n",
      "TIME\n",
      "ga.brdf.snow VAR_NIR_f0_NIR_f0 ; ga.brdf.snow VAR_NIR_f0_NIR_f1 ; ga.brdf.snow VAR_NIR_f0_NIR_f2 ; ga.brdf.snow VAR_NIR_f0_SW_f0 ; ga.brdf.snow VAR_NIR_f0_SW_f1 ; ga.brdf.snow VAR_NIR_f0_SW_f2 ; ga.brdf.snow VAR_NIR_f1_NIR_f1 ; ga.brdf.snow VAR_NIR_f1_NIR_f2 ; ga.brdf.snow VAR_NIR_f1_SW_f0 ; ga.brdf.snow VAR_NIR_f1_SW_f1 ; ga.brdf.snow VAR_NIR_f1_SW_f2 ; ga.brdf.snow VAR_NIR_f2_NIR_f2 ; ga.brdf.snow VAR_NIR_f2_SW_f0 ; ga.brdf.snow VAR_NIR_f2_SW_f1 ; ga.brdf.snow VAR_NIR_f2_SW_f2 ; ga.brdf.snow VAR_SW_f0_SW_f0 ; ga.brdf.snow VAR_SW_f0_SW_f1 ; ga.brdf.snow VAR_SW_f0_SW_f2 ; ga.brdf.snow VAR_SW_f1_SW_f1 ; ga.brdf.snow VAR_SW_f1_SW_f2 ; ga.brdf.snow VAR_SW_f2_SW_f2 ; ga.brdf.snow VAR_VIS_f0_NIR_f0 ; ga.brdf.snow VAR_VIS_f0_NIR_f1 ; ga.brdf.snow VAR_VIS_f0_NIR_f2 ; ga.brdf.snow VAR_VIS_f0_SW_f0 ; ga.brdf.snow VAR_VIS_f0_SW_f1 ; ga.brdf.snow VAR_VIS_f0_SW_f2 ; ga.brdf.snow VAR_VIS_f0_VIS_f0 ; ga.brdf.snow VAR_VIS_f0_VIS_f1 ; ga.brdf.snow VAR_VIS_f0_VIS_f2 ; ga.brdf.snow VAR_VIS_f1_NIR_f0 ; ga.brdf.snow VAR_VIS_f1_NIR_f1 ; ga.brdf.snow VAR_VIS_f1_NIR_f2 ; ga.brdf.snow VAR_VIS_f1_SW_f0 ; ga.brdf.snow VAR_VIS_f1_SW_f1 ; ga.brdf.snow VAR_VIS_f1_SW_f2 ; ga.brdf.snow VAR_VIS_f1_VIS_f1 ; ga.brdf.snow VAR_VIS_f1_VIS_f2 ; ga.brdf.snow VAR_VIS_f2_NIR_f0 ; ga.brdf.snow VAR_VIS_f2_NIR_f1 ; ga.brdf.snow VAR_VIS_f2_NIR_f2 ; ga.brdf.snow VAR_VIS_f2_SW_f0 ; ga.brdf.snow VAR_VIS_f2_SW_f1 ; ga.brdf.snow VAR_VIS_f2_SW_f2 ; ga.brdf.snow VAR_VIS_f2_VIS_f2 ; ga.brdf.snow mean_NIR_f0 ; ga.brdf.snow mean_NIR_f1 ; ga.brdf.snow mean_NIR_f2 ; ga.brdf.snow mean_SW_f0 ; ga.brdf.snow mean_SW_f1 ; ga.brdf.snow mean_SW_f2 ; ga.brdf.snow mean_VIS_f0 ; ga.brdf.snow mean_VIS_f1 ; ga.brdf.snow mean_VIS_f2 ; mod09\n",
      "TIME\n",
      "mod09 MODIS_Grid_1km_2D_Data_Fields_Range ; mod09 MODIS_Grid_1km_2D_Data_Fields_SensorAzimuth ; mod09 MODIS_Grid_1km_2D_Data_Fields_SensorZenith ; mod09 MODIS_Grid_1km_2D_Data_Fields_SolarAzimuth ; mod09 MODIS_Grid_1km_2D_Data_Fields_SolarZenith ; mod09 MODIS_Grid_1km_2D_Data_Fields_gflags ; mod09 MODIS_Grid_1km_2D_Data_Fields_granule_pnt ; mod09 MODIS_Grid_1km_2D_Data_Fields_orbit_pnt ; mod09 MODIS_Grid_1km_2D_Data_Fields_state_1km ; mod09 MODIS_Grid_500m_2D_Data_Fields_QC_500m ; mod09 MODIS_Grid_500m_2D_Data_Fields_iobs_res ; mod09 MODIS_Grid_500m_2D_Data_Fields_obscov_500m ; mod09 MODIS_Grid_500m_2D_Data_Fields_q_scan ; mod09 MODIS_Grid_500m_2D_Data_Fields_sur_refl_b01 ; mod09 MODIS_Grid_500m_2D_Data_Fields_sur_refl_b02 ; mod09 MODIS_Grid_500m_2D_Data_Fields_sur_refl_b03 ; mod09 MODIS_Grid_500m_2D_Data_Fields_sur_refl_b04 ; mod09 MODIS_Grid_500m_2D_Data_Fields_sur_refl_b05 ; mod09 MODIS_Grid_500m_2D_Data_Fields_sur_refl_b06 ; mod09 MODIS_Grid_500m_2D_Data_Fields_sur_refl_b07 ; myd09\n",
      "TIME\n",
      "myd09 MODIS_Grid_1km_2D_Data_Fields_Range ; myd09 MODIS_Grid_1km_2D_Data_Fields_SensorAzimuth ; myd09 MODIS_Grid_1km_2D_Data_Fields_SensorZenith ; myd09 MODIS_Grid_1km_2D_Data_Fields_SolarAzimuth ; myd09 MODIS_Grid_1km_2D_Data_Fields_SolarZenith ; myd09 MODIS_Grid_1km_2D_Data_Fields_gflags ; myd09 MODIS_Grid_1km_2D_Data_Fields_granule_pnt ; myd09 MODIS_Grid_1km_2D_Data_Fields_orbit_pnt ; myd09 MODIS_Grid_1km_2D_Data_Fields_state_1km ; myd09 MODIS_Grid_500m_2D_Data_Fields_QC_500m ; myd09 MODIS_Grid_500m_2D_Data_Fields_iobs_res ; myd09 MODIS_Grid_500m_2D_Data_Fields_obscov_500m ; myd09 MODIS_Grid_500m_2D_Data_Fields_q_scan ; myd09 MODIS_Grid_500m_2D_Data_Fields_sur_refl_b01 ; myd09 MODIS_Grid_500m_2D_Data_Fields_sur_refl_b02 ; myd09 MODIS_Grid_500m_2D_Data_Fields_sur_refl_b03 ; myd09 MODIS_Grid_500m_2D_Data_Fields_sur_refl_b04 ; myd09 MODIS_Grid_500m_2D_Data_Fields_sur_refl_b05 ; myd09 MODIS_Grid_500m_2D_Data_Fields_sur_refl_b06 ; myd09 MODIS_Grid_500m_2D_Data_Fields_sur_refl_b07 ; prior.v2.nosnow\n",
      "TIME\n",
      "prior.v2.nosnow Cov_NIR_f0_NIR_f0 ; prior.v2.nosnow Cov_NIR_f0_NIR_f1 ; prior.v2.nosnow Cov_NIR_f0_NIR_f2 ; prior.v2.nosnow Cov_NIR_f0_SW_f0 ; prior.v2.nosnow Cov_NIR_f0_SW_f1 ; prior.v2.nosnow Cov_NIR_f0_SW_f2 ; prior.v2.nosnow Cov_NIR_f1_NIR_f1 ; prior.v2.nosnow Cov_NIR_f1_NIR_f2 ; prior.v2.nosnow Cov_NIR_f1_SW_f0 ; prior.v2.nosnow Cov_NIR_f1_SW_f1 ; prior.v2.nosnow Cov_NIR_f1_SW_f2 ; prior.v2.nosnow Cov_NIR_f2_NIR_f2 ; prior.v2.nosnow Cov_NIR_f2_SW_f0 ; prior.v2.nosnow Cov_NIR_f2_SW_f1 ; prior.v2.nosnow Cov_NIR_f2_SW_f2 ; prior.v2.nosnow Cov_SW_f0_SW_f0 ; prior.v2.nosnow Cov_SW_f0_SW_f1 ; prior.v2.nosnow Cov_SW_f0_SW_f2 ; prior.v2.nosnow Cov_SW_f1_SW_f1 ; prior.v2.nosnow Cov_SW_f1_SW_f2 ; prior.v2.nosnow Cov_SW_f2_SW_f2 ; prior.v2.nosnow Cov_VIS_f0_NIR_f0 ; prior.v2.nosnow Cov_VIS_f0_NIR_f1 ; prior.v2.nosnow Cov_VIS_f0_NIR_f2 ; prior.v2.nosnow Cov_VIS_f0_SW_f0 ; prior.v2.nosnow Cov_VIS_f0_SW_f1 ; prior.v2.nosnow Cov_VIS_f0_SW_f2 ; prior.v2.nosnow Cov_VIS_f0_VIS_f0 ; prior.v2.nosnow Cov_VIS_f0_VIS_f1 ; prior.v2.nosnow Cov_VIS_f0_VIS_f2 ; prior.v2.nosnow Cov_VIS_f1_NIR_f0 ; prior.v2.nosnow Cov_VIS_f1_NIR_f1 ; prior.v2.nosnow Cov_VIS_f1_NIR_f2 ; prior.v2.nosnow Cov_VIS_f1_SW_f0 ; prior.v2.nosnow Cov_VIS_f1_SW_f1 ; prior.v2.nosnow Cov_VIS_f1_SW_f2 ; prior.v2.nosnow Cov_VIS_f1_VIS_f1 ; prior.v2.nosnow Cov_VIS_f1_VIS_f2 ; prior.v2.nosnow Cov_VIS_f2_NIR_f0 ; prior.v2.nosnow Cov_VIS_f2_NIR_f1 ; prior.v2.nosnow Cov_VIS_f2_NIR_f2 ; prior.v2.nosnow Cov_VIS_f2_SW_f0 ; prior.v2.nosnow Cov_VIS_f2_SW_f1 ; prior.v2.nosnow Cov_VIS_f2_SW_f2 ; prior.v2.nosnow Cov_VIS_f2_VIS_f2 ; prior.v2.nosnow Data_Mask ; prior.v2.nosnow Mean_NIR ; prior.v2.nosnow Mean_SW ; prior.v2.nosnow Mean_VIS ; prior.v2.nosnow Snow_Fraction ; prior.v2.snow\n",
      "TIME\n",
      "prior.v2.snow Cov_NIR_f0_NIR_f0 ; prior.v2.snow Cov_NIR_f0_NIR_f1 ; prior.v2.snow Cov_NIR_f0_NIR_f2 ; prior.v2.snow Cov_NIR_f0_SW_f0 ; prior.v2.snow Cov_NIR_f0_SW_f1 ; prior.v2.snow Cov_NIR_f0_SW_f2 ; prior.v2.snow Cov_NIR_f1_NIR_f1 ; prior.v2.snow Cov_NIR_f1_NIR_f2 ; prior.v2.snow Cov_NIR_f1_SW_f0 ; prior.v2.snow Cov_NIR_f1_SW_f1 ; prior.v2.snow Cov_NIR_f1_SW_f2 ; prior.v2.snow Cov_NIR_f2_NIR_f2 ; prior.v2.snow Cov_NIR_f2_SW_f0 ; prior.v2.snow Cov_NIR_f2_SW_f1 ; prior.v2.snow Cov_NIR_f2_SW_f2 ; prior.v2.snow Cov_SW_f0_SW_f0 ; prior.v2.snow Cov_SW_f0_SW_f1 ; prior.v2.snow Cov_SW_f0_SW_f2 ; prior.v2.snow Cov_SW_f1_SW_f1 ; prior.v2.snow Cov_SW_f1_SW_f2 ; prior.v2.snow Cov_SW_f2_SW_f2 ; prior.v2.snow Cov_VIS_f0_NIR_f0 ; prior.v2.snow Cov_VIS_f0_NIR_f1 ; prior.v2.snow Cov_VIS_f0_NIR_f2 ; prior.v2.snow Cov_VIS_f0_SW_f0 ; prior.v2.snow Cov_VIS_f0_SW_f1 ; prior.v2.snow Cov_VIS_f0_SW_f2 ; prior.v2.snow Cov_VIS_f0_VIS_f0 ; prior.v2.snow Cov_VIS_f0_VIS_f1 ; prior.v2.snow Cov_VIS_f0_VIS_f2 ; prior.v2.snow Cov_VIS_f1_NIR_f0 ; prior.v2.snow Cov_VIS_f1_NIR_f1 ; prior.v2.snow Cov_VIS_f1_NIR_f2 ; prior.v2.snow Cov_VIS_f1_SW_f0 ; prior.v2.snow Cov_VIS_f1_SW_f1 ; prior.v2.snow Cov_VIS_f1_SW_f2 ; prior.v2.snow Cov_VIS_f1_VIS_f1 ; prior.v2.snow Cov_VIS_f1_VIS_f2 ; prior.v2.snow Cov_VIS_f2_NIR_f0 ; prior.v2.snow Cov_VIS_f2_NIR_f1 ; prior.v2.snow Cov_VIS_f2_NIR_f2 ; prior.v2.snow Cov_VIS_f2_SW_f0 ; prior.v2.snow Cov_VIS_f2_SW_f1 ; prior.v2.snow Cov_VIS_f2_SW_f2 ; prior.v2.snow Cov_VIS_f2_VIS_f2 ; prior.v2.snow Data_Mask ; prior.v2.snow Mean_NIR ; prior.v2.snow Mean_SW ; prior.v2.snow Mean_VIS ; prior.v2.snow Snow_Fraction ; prior.v2.snownosnow\n"
     ]
    }
   ],
   "source": [
    "'''\n",
    "Form the data dictionary (in ncdata), reading and storing each of the\n",
    "datasets in datakeys.\n",
    "\n",
    "The only complexities in the code are to do with correcting some variants\n",
    "(e.g. 'MEAN__BAND________' -> 'MEAN_BAND')\n",
    "\n",
    "The default parsing splits the key on _1_:\n",
    "\n",
    "thiskey = kk.split('_1_')[0]\n",
    "\n",
    "A set of 'special' keys are defined that need to be split / interpreted differently\n",
    "These are specified in the dictionary specials, with the key name and an integer specifying\n",
    "how many terms to include.\n",
    "\n",
    "To decode the TIME field, we look at the keys for\n",
    "'Cov_NIR_f0_NIR_f0','VAR_NIR_f0_NIR_f0','BB_NIR','MODIS_Grid_1km_2D_Data_Fields_Range'\n",
    "any one of which can lead to the time field.\n",
    "\n",
    "'''\n",
    "\n",
    "ncdata = {}\n",
    "\n",
    "# the integer specifies how many _ fields to include\n",
    "# eg var/covar are functions of band and kernel so 4 variables, so 5\n",
    "specials = {\n",
    "    'Data_Mask_':2,\n",
    "    'Cov_':5,\n",
    "    'Mean_':2,\n",
    "    'VAR_':5,\n",
    "    'mean_':3,\n",
    "    'BB_':2,\n",
    "    'sig_BB_':4,\n",
    "    'Kgeo_BRDF':3,\n",
    "    'Kvol_BRDF':3,\n",
    "    'Kiso_BRDF':3\n",
    "}\n",
    "\n",
    "for k in datakeys:\n",
    "    k =  k.strip('/')\n",
    "    ncdata[k] = {}\n",
    "    print k\n",
    "    try:\n",
    "        ncdata[k] = load_obj(k)\n",
    "    except:\n",
    "        for i in xrange(len(ncfiles[k])):\n",
    "            ncfile = Dataset('./' +k+'/'+ncfiles[k][i],'r')         \n",
    "            for kk in np.sort(ncfile.variables.keys()):\n",
    "                # different data keys in different prior versions    \n",
    "                # Fix MEAN__BAND________\n",
    "                for terms in ['MEAN__BAND________']:\n",
    "                    thiskey = kk\n",
    "                    if thiskey[:len(terms)] == terms:\n",
    "                        thiskey = 'MEAN_BAND_'+thiskey.split(terms)[1:]\n",
    "                        # eg 0_PARAMETER_F0_0000001_000000\n",
    "                        \n",
    "                # default\n",
    "                thiskey = kk.split('_1_')[0]\n",
    "                \n",
    "                # check if its in the specials\n",
    "                for terms in specials.keys():\n",
    "                    if thiskey[:len(terms)] == terms:\n",
    "                        thiskey = '_'.join(kk.split('_')[:specials[terms]])\n",
    "\n",
    "                # time - specific examples for hooks into time field\n",
    "                for terms in ['Cov_NIR_f0_NIR_f0','VAR_NIR_f0_NIR_f0','BB_NIR',\\\n",
    "                             'MODIS_Grid_1km_2D_Data_Fields_Range']:\n",
    "                    if thiskey[:len(terms)] == terms:\n",
    "                        doy = int(kk.split('_')[-2])\n",
    "                        if ('doy' not in ncdata[k]):\n",
    "                            print 'TIME'\n",
    "                            ncdata[k]['doy'] = []\n",
    "                        ncdata[k]['doy'].append(doy)\n",
    "                    \n",
    "                # other quite special ones, but all of a pattern\n",
    "                # e.g. Snow_Fraction_XXX -> Snow_Fraction\n",
    "                for terms in ['Snow_Fraction','Goodness_of_Fit','cloud_classif_flags','aot_flags',\\\n",
    "                             'snow_mask','RAA','SZA','VZA']:\n",
    "                    # prior\n",
    "                    nn = terms.count('_') + 1\n",
    "                    if thiskey[:len(terms)] == terms:\n",
    "                        thiskey = '_'.join(kk.split('_')[:nn]) \n",
    "\n",
    "                        \n",
    "                # ignore these ones\n",
    "                dontdoit = False\n",
    "                for terms in ['Weighted_Number_of_Samples', 'Entropy', 'lat', 'lon',\\\n",
    "                             'Goodness_of_Fit','Relative_Entropy','Time_to_the_Closest_Sample',\\\n",
    "                             'AOD550','DEM','NDVI','SM','sig_AOD550','sig_NDVI',\\\n",
    "                             'Proportion_NSamples','l1_flags',\\\n",
    "                              'MODIS_Grid_1km_2D_Data_Fields_num_observations_1km',\\\n",
    "                             'MODIS_Grid_500m_2D_Data_Fields_num_observations_500m']:\n",
    "                    nn = terms.count('_') + 1\n",
    "                    if thiskey[:len(terms)] == terms:\n",
    "                        dontdoit = True\n",
    "                        thiskey = '_'.join(kk.split('_')[:nn]) \n",
    "\n",
    "                if not dontdoit:\n",
    "                    if (thiskey not in ncdata[k]):\n",
    "                        print k,thiskey,\";\",\n",
    "                        ncdata[k][thiskey] = []\n",
    "                    # read the data\n",
    "                    thisdata = ncfile.variables[kk][:]\n",
    "                    ncdata[k][thiskey].append(thisdata)\n",
    "            del ncfile\n",
    "        save_obj(ncdata[k],k)\n",
    "        \n"
   ]
  },
  {
   "cell_type": "code",
   "execution_count": 29,
   "metadata": {
    "collapsed": false
   },
   "outputs": [
    {
     "name": "stdout",
     "output_type": "stream",
     "text": [
      "bbdr.flags\n",
      "bbdr.meris \tdate\n",
      "bbdr.vgt \tdate\n",
      "ga.brdf.merge \tdate\n",
      "ga.brdf.nosnow \tdate\n",
      "ga.brdf.snow \tdate\n",
      "mod09 \tdate\n",
      "myd09 \tdate\n",
      "prior.v2.nosnow\n",
      "prior.v2.snow\n",
      "prior.v2.snownosnow\n"
     ]
    }
   ],
   "source": [
    "# sort doys\n",
    "for k in datakeys:\n",
    "    print k,\n",
    "    # prior has doy only\n",
    "    if k[:5] != 'prior' and ('doy' in ncdata[k].keys()):\n",
    "        print '\\tdate'\n",
    "        ncdata[k]['date'] = np.atleast_1d(np.zeros(0))\n",
    "        ncdata[k]['yeardoy'] = np.array([ [int(str(i)[:4]),int(str(i)[4:])] for i in ncdata[k]['doy']])\n",
    "        for year,doy in ncdata[k]['yeardoy']:\n",
    "            ncdata[k]['date'] = np.append(ncdata[k]['date'],\\\n",
    "                                          datetime.date(year, 1, 1) + datetime.timedelta(days=doy))\n",
    "    else:\n",
    "        print "
   ]
  },
  {
   "cell_type": "markdown",
   "metadata": {},
   "source": [
    "## Modis QA mask\n",
    "\n"
   ]
  },
  {
   "cell_type": "code",
   "execution_count": 31,
   "metadata": {
    "collapsed": false
   },
   "outputs": [
    {
     "name": "stdout",
     "output_type": "stream",
     "text": [
      "[u'MODIS_Grid_1km_2D_Data_Fields_SensorZenith', u'MODIS_Grid_500m_2D_Data_Fields_q_scan', u'MODIS_Grid_1km_2D_Data_Fields_SensorAzimuth', 'yeardoy', u'MODIS_Grid_1km_2D_Data_Fields_SolarAzimuth', u'MODIS_Grid_500m_2D_Data_Fields_obscov_500m', u'MODIS_Grid_500m_2D_Data_Fields_iobs_res', u'MODIS_Grid_1km_2D_Data_Fields_SolarZenith', u'MODIS_Grid_1km_2D_Data_Fields_Range', u'MODIS_Grid_1km_2D_Data_Fields_orbit_pnt', u'MODIS_Grid_500m_2D_Data_Fields_sur_refl_b07', u'MODIS_Grid_500m_2D_Data_Fields_sur_refl_b06', u'MODIS_Grid_500m_2D_Data_Fields_sur_refl_b05', u'MODIS_Grid_500m_2D_Data_Fields_sur_refl_b04', u'MODIS_Grid_500m_2D_Data_Fields_sur_refl_b03', u'MODIS_Grid_500m_2D_Data_Fields_sur_refl_b02', u'MODIS_Grid_500m_2D_Data_Fields_sur_refl_b01', u'MODIS_Grid_1km_2D_Data_Fields_state_1km', u'MODIS_Grid_1km_2D_Data_Fields_granule_pnt', 'date', u'MODIS_Grid_1km_2D_Data_Fields_gflags', 'doy', u'MODIS_Grid_500m_2D_Data_Fields_QC_500m']\n"
     ]
    }
   ],
   "source": [
    "# The following keys are available for the MODIS datasets\n",
    "\n",
    "print ncdata['mod09'].keys()"
   ]
  },
  {
   "cell_type": "markdown",
   "metadata": {},
   "source": [
    "The MODIS QA mask for this product is specified on the [USGS site](https://lpdaac.usgs.gov/dataset_discovery/modis/modis_products_table/mod09a1).\n",
    "\n",
    "Here, we will decode `MODIS_Grid_1km_2D_Data_Fields_state_1km`:"
   ]
  },
  {
   "cell_type": "code",
   "execution_count": 134,
   "metadata": {
    "collapsed": false
   },
   "outputs": [
    {
     "name": "stdout",
     "output_type": "stream",
     "text": [
      "MODIS_Grid_500m_2D_Data_Fields_QC_500m <type 'list'> <type 'numpy.ndarray'> int32 1002159035 1107296257 1073741824 1610612736 1073741824 1073741824 1073741824 1073741824 1073741824 1073741824\n",
      "MODIS_Grid_1km_2D_Data_Fields_state_1km <type 'list'> <type 'numpy.ndarray'> int16 136 1033 1802 72 1033 1801 1033 1033 1033 1033\n",
      "MODIS_Grid_500m_2D_Data_Fields_sur_refl_b01 <type 'list'> <type 'numpy.ndarray'> int16 -28672 7007 1064 357 3696 2067 8020 5498 7826 2908\n",
      "MODIS_Grid_500m_2D_Data_Fields_QC_500m <type 'numpy.ndarray'> <type 'numpy.uint32'> uint32 1002159035 1107296257 1073741824 1610612736 1073741824 1073741824 1073741824 1073741824 1073741824 1073741824\n",
      "MODIS_Grid_1km_2D_Data_Fields_state_1km <type 'numpy.ndarray'> <type 'numpy.uint16'> uint16 136 1033 1802 72 1033 1801 1033 1033 1033 1033\n",
      "MODIS_Grid_500m_2D_Data_Fields_sur_refl_b01 <type 'numpy.ndarray'> <type 'numpy.float64'> float64 -2.8672 0.7007 0.1064 0.0357 0.3696 0.2067 0.802 0.5498 0.7826 0.2908\n",
      "valid:  8 72 136 200 1032 1288 1544 1800 5128 5384 5640 5896 8264 8328 8392 9480 12488 32776 36872 45064\n",
      "There are 6 values with value 8 0b1000\n",
      "[ 0.0231  0.0225  0.0395  0.0552  0.0519  0.0368]\n",
      "========================\n",
      "There are 383 values with value 72 0b1001000\n",
      "[ 0.0357  0.0486  0.0469  0.0404  0.0398  0.0416  0.0286  0.0181  0.0251\n",
      "  0.0229  0.0177  0.0199  0.035   0.0168  0.0277  0.0499  0.0389  0.0244\n",
      "  0.042   0.0357  0.0307  0.0409  0.0445  0.0404  0.029   0.0196 -2.8672\n",
      "  0.021   0.0147  0.0189  0.0151  0.0169  0.0163  0.0271  0.0235  0.0592\n",
      "  0.0544  0.0449  0.0522  0.0486  0.0443  0.0466  0.0331  0.0261  0.0196\n",
      "  0.0162  0.0178  0.0161  0.0227  0.0365  0.0511  0.0493  0.0404  0.0586\n",
      "  0.0437  0.0418  0.0494  0.0319  0.0529  0.0234  0.0143  0.0149  0.0219\n",
      "  0.0274  0.0249  0.0297  0.0272  0.0294  0.0205  0.0305  0.0299  0.0193\n",
      "  0.0347  0.0509  0.0253  0.0484  0.0377  0.031   0.0289  0.0213  0.0203\n",
      "  0.0245  0.0194  0.0187  0.0254  0.0179  0.0211  0.0184  0.0217  0.0289\n",
      "  0.04    0.0503  0.0409  0.0352  0.0462  0.0351  0.048   0.0395  0.0333\n",
      "  0.0301  0.0194  0.025   0.0152  0.0182  0.0127  0.0189  0.015   0.0122\n",
      "  0.0195  0.0123  0.016   0.0183  0.0146  0.0206  0.0153  0.0205  0.0173\n",
      "  0.023   0.0159  0.0195  0.0244  0.0343  0.0286  0.03    0.0313  0.0366\n",
      "  0.0586  0.0449  0.0521  0.0459  0.035   0.0342  0.0487  0.0349  0.0161\n",
      "  0.0216  0.016   0.0203  0.0214  0.0143  0.0216  0.0158  0.022   0.0156\n",
      "  0.0243  0.0165  0.0226  0.0167  0.0231  0.0226  0.0229  0.0214  0.0193\n",
      "  0.0316  0.0303  0.0302  0.0497  0.0453  0.0346  0.0332  0.0367  0.041\n",
      "  0.043   0.0409  0.036   0.0408  0.0466  0.0366  0.0477  0.0394  0.0397\n",
      "  0.0372  0.0469  0.0369  0.0365  0.0273  0.0378  0.0269  0.0381  0.029\n",
      "  0.0249  0.0215  0.0186  0.023   0.0184  0.0238  0.0188  0.0153  0.0202\n",
      "  0.0289  0.0219  0.0455  0.0392  0.032   0.0379  0.0333  0.0551  0.034\n",
      "  0.0453  0.0333  0.0266  0.0341  0.0241  0.0242  0.0172  0.018   0.0135\n",
      "  0.0191  0.0172  0.0226  0.0147  0.0164  0.0224  0.021   0.0169  0.0222\n",
      "  0.0226  0.058   0.0723  0.0521  0.0514  0.0556  0.0323  0.0463  0.0234\n",
      "  0.0219  0.019   0.0161  0.0173  0.0263  0.0182  0.0179  0.0211  0.0268\n",
      "  0.0235  0.0239  0.0355  0.03    0.0256  0.0524  0.0429  0.0539  0.0413\n",
      "  0.0364  0.0488  0.0415  0.0383  0.0301  0.0199  0.0166  0.0142  0.0204\n",
      "  0.0156  0.0189  0.0217  0.0167  0.0206  0.0151  0.0233  0.0229  0.0201\n",
      "  0.0266  0.0439  0.035   0.0512  0.0419  0.0417  0.0551  0.0307  0.037\n",
      "  0.0405  0.0385  0.043   0.0399  0.0513  0.0507  0.0525  0.047   0.0534\n",
      "  0.0393  0.0498  0.0479  0.0414  0.0444  0.0285  0.0486  0.0264  0.0323\n",
      "  0.0308  0.0246  0.018   0.0177  0.0264  0.0174  0.0195  0.0277  0.0209\n",
      "  0.0266  0.0291  0.0245  0.0264  0.0311  0.0267  0.0357  0.0413  0.0303\n",
      "  0.0281  0.0302  0.038   0.0351  0.0418  0.0451  0.0398  0.0356  0.0505\n",
      "  0.0399  0.0421  0.0363  0.0359  0.0289  0.0208  0.0147  0.022   0.0225\n",
      "  0.0212  0.016   0.0333  0.0172  0.0248  0.0345  0.027   0.0373  0.0625\n",
      "  0.0564  0.025   0.0489  0.0208  0.0237  0.0188  0.0221  0.017   0.0153\n",
      "  0.0167  0.018   0.0216  0.0155  0.0211  0.0291  0.0193  0.0329  0.0207\n",
      "  0.0294  0.0213  0.0358  0.0402  0.0303  0.0186  0.0247  0.0215  0.0289\n",
      "  0.0229  0.0258  0.0274  0.0244  0.0393  0.0518  0.0459  0.0353  0.0377\n",
      "  0.0289  0.0193  0.0154  0.013   0.0192  0.0217  0.018   0.0168  0.0297\n",
      "  0.0208  0.0371  0.0387  0.0382  0.0389]\n",
      "========================\n",
      "There are 272 values with value 136 0b10001000\n",
      "[-2.8672  0.0555  0.0446  0.056   0.0467  0.049   0.038   0.0345  0.016\n",
      "  0.0209  0.0163  0.0222  0.0156  0.0206  0.0422  0.0323  0.0284  0.016\n",
      "  0.0599  0.0529  0.0382  0.0426  0.0403  0.0333  0.0225  0.0169  0.0221\n",
      "  0.0195  0.0204  0.0339  0.03    0.0534  0.045   0.053   0.0409  0.0544\n",
      "  0.0253  0.0254  0.0159  0.026   0.0285  0.0303  0.0482  0.0404  0.0502\n",
      "  0.0447  0.041   0.0496  0.043   0.0529  0.0427  0.0425  0.0477  0.0461\n",
      "  0.0487  0.0171  0.0176  0.0155  0.0159  0.0164  0.0243  0.025   0.0296\n",
      "  0.0374  0.0246  0.0224  0.0302  0.0198  0.0398  0.0437  0.059   0.0523\n",
      "  0.0451  0.0547  0.0415  0.0493  0.0459  0.0248  0.07    0.0174  0.0267\n",
      "  0.0243  0.0287  0.0217  0.0273  0.0285  0.0259  0.0248  0.0457  0.0355\n",
      "  0.025   0.0191  0.0205  0.0124  0.0228  0.0218  0.0158  0.0207  0.0176\n",
      "  0.0329  0.0214  0.0165  0.0214  0.0342  0.0426  0.0358  0.0328  0.0294\n",
      "  0.013   0.0293  0.0169  0.0125  0.0282  0.0227  0.0305  0.0225  0.0324\n",
      "  0.0342  0.0387  0.0352  0.026   0.0335  0.03    0.0502  0.042   0.0336\n",
      "  0.0418  0.0213  0.025   0.0531  0.0246  0.0216  0.0199  0.0204  0.0185\n",
      "  0.0188  0.02    0.0155  0.0182  0.0325  0.0277  0.0458  0.0359  0.0235\n",
      "  0.0173  0.0151  0.0128  0.0225  0.0167  0.0195  0.0158  0.0219  0.0287\n",
      "  0.0196  0.0397  0.0672  0.0481  0.0499  0.0433  0.0512  0.0394  0.0498\n",
      "  0.0357  0.0319  0.0311  0.0215  0.0261  0.031   0.0309  0.0375  0.0201\n",
      "  0.0217  0.0294  0.0309  0.0545  0.0557  0.0482  0.0471  0.0153  0.0213\n",
      "  0.0152  0.015   0.0211  0.0438  0.0414  0.0592  0.0493  0.0385  0.0536\n",
      "  0.0405  0.0383  0.0435  0.0335  0.0224  0.0255  0.0334  0.0521  0.0328\n",
      "  0.0332  0.0417  0.0383  0.0373  0.0279  0.0307  0.0275  0.0514  0.0462\n",
      "  0.0232  0.0392  0.0331  0.0435  0.0484  0.0466  0.0433  0.0461  0.0198\n",
      "  0.023   0.0273  0.0205  0.0178  0.0249  0.0398  0.0401  0.043   0.0254\n",
      "  0.0186  0.0261  0.0152  0.0279  0.0267  0.0233  0.0247  0.0156  0.0276\n",
      "  0.0293  0.039   0.0572  0.0552  0.0419  0.0492  0.0498  0.0589  0.0403\n",
      "  0.0354  0.0243  0.0329  0.0247  0.0228  0.0305  0.0347  0.032   0.0442\n",
      "  0.0411  0.0496  0.0286  0.0445  0.0494  0.0124  0.0231  0.0208  0.0225\n",
      "  0.0195  0.022   0.0166  0.0124  0.0245  0.0214  0.0144  0.0311  0.0253\n",
      "  0.016   0.0169]\n",
      "========================\n",
      "There are 71 values with value 200 0b11001000\n",
      "[ 0.0508  0.0347  0.0217  0.0371  0.0409  0.0462  0.0187  0.0186  0.0411\n",
      "  0.0501  0.0533  0.049   0.0691  0.022   0.0322  0.0394  0.0371  0.0307\n",
      "  0.0671  0.0543  0.0461  0.0528  0.039   0.0146  0.0194  0.035   0.0546\n",
      "  0.046   0.0441  0.0216  0.0281  0.029   0.0343  0.0425  0.0461  0.0403\n",
      "  0.0516  0.049   0.0523  0.0239  0.0247  0.0511  0.0613  0.0278  0.0111\n",
      "  0.0373  0.0693  0.0198  0.0311  0.0572  0.0625  0.0469  0.0432  0.0407\n",
      "  0.0352  0.0406  0.0237  0.0457  0.0509  0.0175  0.0232  0.0182  0.0377\n",
      "  0.0477  0.0249  0.0201  0.0273  0.0194  0.0219  0.0212  0.0125]\n",
      "========================\n",
      "There are 97 values with value 1032 0b10000001000\n",
      "[ 0.078   0.1045  0.4749  0.0706  0.1462  0.0338  0.258   0.0521  0.0743\n",
      "  0.0988  0.0816  0.0338  0.0859  0.1332  0.0627  0.0232  0.0891  0.0971\n",
      "  0.0341  0.0557  0.4776  0.0292  0.0681  0.199   0.0632  0.0931  0.1508\n",
      "  0.1316  0.1702  0.074   0.1062  0.0247  0.2044  0.0431  0.046   0.0396\n",
      "  0.0593  0.0517 -0.0028  0.1023  0.0534  0.1532  0.0945  0.2515  0.2109\n",
      "  0.0509  0.054   0.0584  0.0566  0.0456  0.3783  0.0418  0.044   0.0692\n",
      "  0.0897  0.0482  0.1005  0.043   0.1072  0.0349  0.1225  0.0456  0.0169\n",
      "  0.0399  0.0996  0.1426  0.1516  0.0618  0.0507  0.0588  0.0579  0.2798\n",
      "  0.0747  0.0266  0.1054  0.2307  0.0154  0.075   0.0299  0.0289  0.042\n",
      "  0.2929  0.047   0.0652  0.1125  0.0636  0.0395  0.1542  0.1192  0.0621\n",
      "  0.2293  0.0981  0.0462  0.1671  0.1224  0.1337  0.0529]\n",
      "========================\n",
      "There are 53 values with value 1288 0b10100001000\n",
      "[ 0.0497  0.0421  0.0442  0.0618  0.0889  0.0574  0.0343  0.0471  0.0528\n",
      "  0.0551  0.0344  0.0671  0.0611  0.0545  0.0361  0.0294  0.0323  0.0291\n",
      "  0.045   0.0536  0.0512  0.0671  0.0449  0.0304  0.1557  0.0516  0.0833\n",
      "  0.1453  0.0565  0.0502  0.1045  0.0429  0.0421  0.1328  0.0512  0.0762\n",
      "  0.0412  0.0471  0.1012  0.0372  0.0535  0.0433  0.0452  0.0379  0.0413\n",
      "  0.0323  0.0406  0.0475  0.0902  0.0632  0.1018  0.0486  0.0606]\n",
      "========================\n",
      "There are 35 values with value 1544 0b11000001000\n",
      "[ 0.0566  0.0572  0.063   0.0823  0.0376  0.0827  0.0537  0.0755  0.0512\n",
      "  0.0554  0.0937  0.061   0.1975  0.0597  0.101   0.0523  0.1391  0.091\n",
      "  0.0553  0.0631  0.0694  0.0814  0.0691  0.0507  0.0854  0.0841  0.028\n",
      "  0.0566  0.0728  0.0848  0.0584  0.0487  0.0838  0.0518  0.1122]\n",
      "========================\n",
      "There are 4 values with value 1800 0b11100001000\n",
      "[ 0.079   0.0479  0.0844  0.0528]\n",
      "========================\n",
      "There are 9 values with value 5128 0b1010000001000\n",
      "[ 0.0828  0.1487  0.2658  0.1446  0.278   0.4698  0.3767  0.2136  0.2043]\n",
      "========================\n",
      "There are 2 values with value 5384 0b1010100001000\n",
      "[ 0.1057  0.1018]\n",
      "========================\n",
      "There are 2 values with value 5640 0b1011000001000\n",
      "[ 0.1803  0.2404]\n",
      "========================\n",
      "There are 1 values with value 5896 0b1011100001000\n",
      "[ 0.1639]\n",
      "========================\n",
      "There are 19 values with value 8264 0b10000001001000\n",
      "[ 0.037   0.0216  0.0317  0.0454  0.0443  0.0291  0.0159  0.0189  0.0251\n",
      "  0.0513  0.0324  0.0425  0.0193  0.0161  0.0517  0.0245  0.0558  0.0539\n",
      "  0.0413]\n",
      "========================\n",
      "There are 114 values with value 8328 0b10000010001000\n",
      "[ 0.0293  0.0501  0.01    0.0213  0.028   0.0583  0.0594  0.0254  0.0517\n",
      "  0.0249  0.0222  0.0577  0.0257  0.0168  0.0194  0.0352  0.043   0.0617\n",
      "  0.0416  0.0268  0.0691  0.0299  0.0226  0.0284  0.0543  0.0243  0.0203\n",
      "  0.0483  0.0688  0.0385  0.0323  0.0399  0.0221  0.0292  0.0354  0.0429\n",
      "  0.0313  0.0121  0.0059  0.0145  0.0223  0.0223  0.0191  0.0314  0.0463\n",
      "  0.0393  0.0213  0.0331  0.0331  0.0273  0.0468  0.0426  0.0141  0.0263\n",
      "  0.0095  0.0451  0.0296  0.0421  0.0276  0.0407  0.039   0.0364  0.0204\n",
      "  0.0449  0.0887  0.035   0.0366  0.0265  0.0226  0.0242  0.0324  0.0173\n",
      "  0.0509  0.0231  0.0413  0.0236  0.0139  0.0247  0.0418  0.0348  0.0458\n",
      "  0.0418  0.0355  0.0224  0.0234  0.0374  0.0208  0.0287  0.0198  0.0563\n",
      "  0.0195  0.0111  0.0142  0.0577  0.0317  0.1499  0.0174  0.0354  0.0314\n",
      "  0.0224  0.0148  0.0192  0.0282  0.0303  0.0273  0.048   0.0291  0.0522\n",
      "  0.0072  0.0125  0.0223  0.0116  0.0798  0.0189]\n",
      "========================\n",
      "There are 86 values with value 8392 0b10000011001000\n",
      "[ 0.0208  0.0184  0.0674 -0.0093  0.0253  0.0133  0.0949  0.0745  0.019\n",
      "  0.0168  0.0363  0.0497  0.041   0.0472  0.0151  0.0156  0.019   0.0704\n",
      " -0.0048  0.1745  0.03    0.0187  0.0287  0.0193  0.0685  0.0227  0.0735\n",
      "  0.0284  0.0565  0.0476  0.0037  0.01    0.0192 -0.01    0.1073  0.0229\n",
      "  0.0346  0.0365  0.0025  0.054   0.0482  0.0479  0.0454  0.0205  0.0214\n",
      "  0.1175  0.1118  0.3757  0.022   0.037   0.0435  0.0254  0.0598  0.0288\n",
      "  0.0423  0.0736  0.079   0.0147  0.1919  0.0564  0.0175  0.0274  0.0232\n",
      "  0.0371  0.0351  0.0454  0.0203  0.0248  0.0207  0.0296  0.0138  0.0156\n",
      " -0.0012  0.0487  0.1094  0.0324  0.0284  0.0314  0.052   0.0582  0.0311\n",
      "  0.0423  0.3519  0.0155  0.104   0.0217]\n",
      "========================\n",
      "There are 1 values with value 9480 0b10010100001000\n",
      "[ 0.0814]\n",
      "========================\n",
      "There are 1 values with value 12488 0b11000011001000\n",
      "[ 0.048]\n",
      "========================\n",
      "There are 2 values with value 32776 0b1000000000001000\n",
      "[ 0.0959  0.0426]\n",
      "========================\n",
      "There are 14 values with value 36872 0b1001000000001000\n",
      "[ 0.2071  0.1293  0.1688  0.1253  0.246   0.1899  0.1564  0.0698  0.1284\n",
      "  0.0902  0.1406  0.2782  0.1856  0.1023]\n",
      "========================\n",
      "There are 6 values with value 45064 0b1011000000001000\n",
      "[ 0.3002  0.2492  0.1519  0.1457  0.0151  0.3352]\n",
      "========================\n"
     ]
    }
   ],
   "source": [
    "qa = ncdata['mod09']['MODIS_Grid_500m_2D_Data_Fields_QC_500m']\n",
    "qa2 = ncdata['mod09']['MODIS_Grid_1km_2D_Data_Fields_state_1km']\n",
    "r = ncdata['mod09']['MODIS_Grid_500m_2D_Data_Fields_sur_refl_b01']\n",
    "\n",
    "# print some info and examples\n",
    "qa_ = np.array(qa).astype(np.uint32).flatten()\n",
    "qa2_ = np.array(qa2).astype(np.uint16).flatten()\n",
    "r_ = np.array(r).astype(np.int16).flatten() * 0.0001\n",
    "\n",
    "names = ['MODIS_Grid_500m_2D_Data_Fields_QC_500m','MODIS_Grid_1km_2D_Data_Fields_state_1km',\\\n",
    "         'MODIS_Grid_500m_2D_Data_Fields_sur_refl_b01']\n",
    "\n",
    "for i,v in enumerate([qa,qa2,r]):\n",
    "    print names[i],type(v),type(v[0]),v[0].dtype,\n",
    "    for i in xrange(10):\n",
    "        print v[i][0][0],\n",
    "    print\n",
    "\n",
    "for i,v in enumerate([qa_,qa2_,r_]):\n",
    "    print names[i],type(v),type(v[0]),v[0].dtype,\n",
    "    for i in xrange(10):\n",
    "        print v[i],\n",
    "    print \n",
    "    \n",
    "# The fill value is 4294967295\n",
    "# so lets see how many of these we have\n",
    "'''\n",
    "for i in np.sort(np.array(np.unique(qa2_)).astype(int)):\n",
    "    print 'There are',(qa2_ == i).sum(),'values with value %d'%i,bin(i)\n",
    "    print r_[qa2_ == i]\n",
    "    print '========================'\n",
    "'''\n",
    "    \n",
    "    \n",
    "# 136?\n",
    "qcstr = '8 72 136 200 1032 1288 2056 2120 2184 2248'\n",
    "\n",
    "qcstr = ''\n",
    "# lets look at the 2 bits that tell us clear\n",
    "bitmask = 2**6-1\n",
    "for i in np.sort(np.unique(qa2_).astype(np.uint16)):\n",
    "    m = i & bitmask\n",
    "    if m == 0b001000:\n",
    "        #print i,'clear',i & bitmask,bin(bitmask),bin(i&bitmask)\n",
    "        qcstr += ' ' + str(i)\n",
    "    elif m == 10:\n",
    "        pass\n",
    "        #print i,'mixed',i & bitmask,bin(bitmask),bin(i&bitmask)\n",
    "    else:\n",
    "        pass\n",
    "        #print i,'other',i & bitmask,bin(bitmask),bin(i&bitmask)\n",
    "\n",
    "print 'valid:',qcstr\n",
    "# Mixed : \n",
    "#\n",
    "\n",
    "for i in np.sort(np.array(qcstr.split()).astype(np.uint16)):\n",
    "    print 'There are',(qa2_ == i).sum(),'values with value %d'%i,bin(i)\n",
    "    print r_[qa2_ == i]\n",
    "    print '========================'"
   ]
  },
  {
   "cell_type": "code",
   "execution_count": 169,
   "metadata": {
    "collapsed": false
   },
   "outputs": [
    {
     "name": "stdout",
     "output_type": "stream",
     "text": [
      "snow         [False False False False False False False False  True  True  True  True\n",
      " False False False False  True  True  True  True]\n",
      "good         [ True  True  True  True  True  True  True  True  True  True  True  True\n",
      "  True  True  True  True  True  True  True  True]\n",
      "good no snow [ True  True  True  True  True  True  True  True False False False False\n",
      "  True  True  True  True False False False False]\n",
      "good snow    [False False False False False False False False  True  True  True  True\n",
      " False False False False  True  True  True  True]\n"
     ]
    }
   ],
   "source": [
    "def good_qa(t,good4=[0b001000],bitmask=2**6-1):\n",
    "    bitmask = 2**6-1\n",
    "    t = np.uint16(t)\n",
    "    m = t & bitmask\n",
    "    if m == 0b001000:\n",
    "        return True\n",
    "    \n",
    "def snow_qa(tt):\n",
    "    # bit 12 MOD35 snow/ice flag\n",
    "    # bit 15 internal snow algorithm flag\n",
    "    tt = np.uint16(np.array(tt))\n",
    "    s1 = (tt & 2**12)>>12\n",
    "    s2 = (tt & 2**15)>>15\n",
    "    snow = np.logical_or(s1,s2)\n",
    "    return snow\n",
    "\n",
    "def modis_qa(tt,good4=[0b001000],bitmask=2**6-1):\n",
    "    # work on array\n",
    "    tt = np.uint16(np.array(tt))\n",
    "    return (tt & bitmask) == good4[0]\n",
    "\n",
    "\n",
    "tt = np.sort(np.array(qcstr.split()).astype(np.uint16))\n",
    "print 'snow        ',snow_qa(tt)\n",
    "print 'good        ',modis_qa(tt)\n",
    "print 'good no snow',np.logical_and(modis_qa(tt),~snow_qa(tt))\n",
    "print 'good snow   ',np.logical_and(modis_qa(tt),snow_qa(tt))\n"
   ]
  },
  {
   "cell_type": "markdown",
   "metadata": {},
   "source": [
    "## narrow to broadband conversion"
   ]
  },
  {
   "cell_type": "markdown",
   "metadata": {},
   "source": [
    "We use linear equatiuons of the form:\n",
    "\n",
    "$$\n",
    "B = w^T b\n",
    "$$\n",
    "\n",
    "where vector $B$ has 3 broad wavebands, $b$ is a vector of the 7 MODIS bands, and $w$ is the weighting matrix.\n",
    "\n",
    "We also have an uncertainty matrix for the MODIS observations, following Roy et al. (2005) RSE 97: 137-162.\n",
    "\n",
    "We use the narrow to broadband coefficients of [Liang, 2000](https://www.google.co.uk/url?sa=t&rct=j&q=&esrc=s&source=web&cd=1&cad=rja&uact=8&ved=0ahUKEwiOzKrEvYzLAhVBURoKHd7ECxIQFggiMAA&url=http%3A%2F%2Fterpconnect.umd.edu%2F~sliang%2Fpapers%2FRSE.N2B.1.pdf&usg=AFQjCNFDnawdSlcNvMTkNTSdSr447wfbnA&sig2=7SFNU8MS65X9aaVBtv30ow)"
   ]
  },
  {
   "cell_type": "code",
   "execution_count": 141,
   "metadata": {
    "collapsed": false
   },
   "outputs": [],
   "source": [
    "# compute modis weights from Roy et al. (2005) RSE 97: 137-162\n",
    "modissd = np.array([0.004, 0.015, 0.003, 0.004, 0.013, 0.010, 0.006])\n",
    "\n",
    "RI = np.matrix(np.diag(modissd*modissd)).I\n",
    "\n",
    "bands = ['VIS','NIR','SW']\n",
    "\n",
    "# modis narrow to broadband coefficients from Liang, 2000\n",
    "BBweights = np.array([[0.331,0.000, 0.424,0.246,0.000,0.000,0.000, 0.0000],\\\n",
    "                      [0.039,0.504,-0.071,0.105,0.252,0.069,0.101, 0.0000],\\\n",
    "                      [0.160,0.291, 0.243,0.116,0.112,0.000,0.081,-0.0015]])\n",
    "\n",
    "# renormalise\n",
    "#BBweights = (BBweights.T / BBweights.sum(axis=1)).T"
   ]
  },
  {
   "cell_type": "code",
   "execution_count": 142,
   "metadata": {
    "collapsed": false
   },
   "outputs": [],
   "source": [
    "# form the subset of the weights matrix\n",
    "H = np.matrix(BBweights[:,:-1]).T\n",
    "\n",
    "# then the uncertainty (4x4 matrix) is\n",
    "BBuncertainty_weight = (H.T * RI * H)"
   ]
  },
  {
   "cell_type": "code",
   "execution_count": null,
   "metadata": {
    "collapsed": false
   },
   "outputs": [],
   "source": [
    "# sort MODIS data\n",
    "for k in ncdata.keys():\n",
    "    # MODIS processing\n",
    "    #\n",
    "    # reflectance observations\n",
    "    monkey = 'MODIS_Grid_500m_2D_Data_Fields_sur_refl_b%02d'\n",
    "    monkey1 = monkey%1\n",
    "    if monkey1 in ncdata[k].keys():\n",
    "        print k\n",
    "\n",
    "        modiswt = 1./(modissd*modissd)\n",
    "        print '\\tobs:',k,len(ncdata[k][monkey1])\n",
    "        ncdata[k]['reflectance'] = np.zeros((7,len(ncdata[k][monkey1])))\n",
    "        ncdata[k]['weight'] = np.zeros((7,len(ncdata[k][monkey1])))\n",
    "        for i in xrange(1,8):\n",
    "            ncdata[k]['reflectance'][i-1,:] = np.array(ncdata[k][monkey%i]).squeeze().astype(float) * 0.0001\n",
    "            ncdata[k]['weight'][i-1,:] = modiswt[i-1]\n",
    "\n",
    "            # apply the linear model to the mean\n",
    "            BBrefl = (np.dot(BBweights[:,:-1],ncdata[k]['reflectance']).T + BBweights[:,-1]).T\n",
    "            # narrow to broadband\n",
    "            ncdata[k]['BB_VIS'] = BBrefl[0]\n",
    "            ncdata[k]['BB_VIS_DIR'] = BBrefl[1]\n",
    "            ncdata[k]['BB_NIR'] = BBrefl[2]\n",
    "            ncdata[k]['BB_SW']  = BBrefl[3]\n",
    "            \n",
    "            # uncertainty\n",
    "            #BBweight = np.dot(BBweights[:,:-1],ncdata[k]['weight'])\n",
    "            for b1,band1 in enumerate(['VIS','VIS_DIR','NIR','SW']):\n",
    "                for b2,band2 in enumerate(['VIS','VIS_DIR','NIR','SW']):\n",
    "                    if b2 <= b1:\n",
    "                        term = 'weight_BB_%s_%s'%(band1,band2)\n",
    "                        ncdata[k][term] = BBuncertainty_weight[b1,b2]\n",
    "\n",
    "            # extract qa\n",
    "            test = np.array(ncdata[k]['MODIS_Grid_500m_2D_Data_Fields_QC_500m']).squeeze()\n",
    "            test2 = np.array(ncdata[k]['MODIS_Grid_1km_2D_Data_Fields_state_1km']).squeeze()\n",
    "            ncdata[k]['mask'] = modis_qa(test2)\n",
    "            ncdata[k]['mask_snow'] = modis_qa2(test2,snow=True)\n",
    "            ncdata[k]['mask_nosnow'] = modis_qa2(test2,snow=False)\n",
    "            # obscov - use as a weighting term?\n",
    "            ncdata[k]['obscov'] = 0.01*np.array(ncdata['mod09']['MODIS_Grid_500m_2D_Data_Fields_obscov_500m']).squeeze().astype(float)\n",
    "\n",
    "            # angles\n",
    "            vza = 0.01*np.array(ncdata[k]['MODIS_Grid_1km_2D_Data_Fields_SensorZenith']).squeeze().astype(float)\n",
    "            sza = 0.01*np.array(ncdata[k]['MODIS_Grid_1km_2D_Data_Fields_SolarZenith']).squeeze().astype(float)\n",
    "            vaa = 0.01*np.array(ncdata[k]['MODIS_Grid_1km_2D_Data_Fields_SensorAzimuth']).squeeze().astype(float)\n",
    "            saa = 0.01*np.array(ncdata[k]['MODIS_Grid_1km_2D_Data_Fields_SolarAzimuth']).squeeze().astype(float)\n",
    "            kern = kernels.Kernels(vza, sza, vaa-saa, doIntegrals=False, RossHS=False, RossType='Thick',\\\n",
    "                     LiType='Sparse', normalise=1, nbar=0., RecipFlag=True, MODISSPARSE=True)\n",
    "\n",
    "            ncdata[k]['Kvol'],ncdata[k]['Kgeo'] = np.asarray(kern.Ross),np.asarray(kern.Li)\n",
    "\n"
   ]
  },
  {
   "cell_type": "markdown",
   "metadata": {},
   "source": [
    "## Examine MODIS data"
   ]
  },
  {
   "cell_type": "markdown",
   "metadata": {},
   "source": [
    "We can now examine the MODIS broad band reflectance data.\n",
    "\n",
    "We can look in particular at whether the two formulae given by Liang for direct and diffuse effects make any real difference.\n",
    "\n",
    "We can also examine the quality and quantity of snow and no snow data:"
   ]
  },
  {
   "cell_type": "code",
   "execution_count": null,
   "metadata": {
    "collapsed": false
   },
   "outputs": [],
   "source": [
    "bands = ['VIS','VIS_DIR','NIR','SW']\n",
    "\n",
    "plt.figure(figsize=(15,3))\n",
    "for mod in ['mod09']:\n",
    "    for i in xrange(4):\n",
    "        mm = ncdata[mod]['mask_snow']\n",
    "        x = ncdata[mod]['date'][mm]\n",
    "        y = ncdata[mod]['BB_%s'%bands[i]][mm]\n",
    "        w = ncdata[mod]['weight_BB_%s_%s'%(bands[i],bands[i])]\n",
    "        unc =  np.sqrt(1/w)\n",
    "        print unc\n",
    "        plt.plot(x,y,'+',label=mod+bands[i])\n",
    "plt.xlabel('time')\n",
    "plt.xlabel('reflectance')\n",
    "plt.legend(loc='best')\n",
    "plt.title('snow')"
   ]
  },
  {
   "cell_type": "code",
   "execution_count": null,
   "metadata": {
    "collapsed": false
   },
   "outputs": [],
   "source": [
    "bands = ['VIS','VIS_DIR','NIR','SW']\n",
    "bands = ['NIR']\n",
    "\n",
    "plt.figure(figsize=(15,3))\n",
    "for i in xrange(len(bands)):\n",
    "    mm = ncdata['myd09']['mask_nosnow']\n",
    "    x = ncdata['myd09']['date'][mm]\n",
    "    y = ncdata['myd09']['BB_%s'%bands[i]][mm]\n",
    "    plt.plot(x,y,'+',label=bands[i])\n",
    "plt.xlabel('time')\n",
    "plt.xlabel('reflectance')\n",
    "plt.legend(loc='best')\n",
    "plt.title('myd no snow')\n",
    "print ncdata['myd09']['date'].shape,ncdata['myd09']['mask_snow'].shape"
   ]
  },
  {
   "cell_type": "code",
   "execution_count": null,
   "metadata": {
    "collapsed": false
   },
   "outputs": [],
   "source": [
    "bands = ['VIS','VIS_DIR']\n",
    "mm = ncdata['myd09']['mask_nosnow']\n",
    "plt.figure(figsize=(7,7))\n",
    "y0 = ncdata['myd09']['BB_%s'%bands[0]][mm]\n",
    "y1 = ncdata['myd09']['BB_%s'%bands[1]][mm]\n",
    "plt.plot(y0,y1,'+')\n",
    "print scipy.stats.linregress(y0,y1)\n",
    "\n",
    "\n",
    "mm = ncdata['mod09']['mask_nosnow']\n",
    "y0 = ncdata['mod09']['BB_%s'%bands[0]][mm]\n",
    "y1 = ncdata['mod09']['BB_%s'%bands[1]][mm]\n",
    "plt.plot(y0,y1,'+')\n",
    "print scipy.stats.linregress(y0,y1)\n",
    "\n",
    "\n",
    "plt.xlabel('diffuse VIS')\n",
    "plt.ylabel('direct VIS')\n",
    "plt.legend(loc='best')\n",
    "plt.title('no snow')\n",
    "plt.xlim(0,1)\n",
    "plt.ylim(0,1)\n"
   ]
  },
  {
   "cell_type": "code",
   "execution_count": null,
   "metadata": {
    "collapsed": false
   },
   "outputs": [],
   "source": [
    "bands = ['VIS','VIS_DIR']\n",
    "plt.figure(figsize=(7,7))\n",
    "\n",
    "mm = ncdata['myd09']['mask_snow']\n",
    "y0 = ncdata['myd09']['BB_%s'%bands[0]][mm]\n",
    "y1 = ncdata['myd09']['BB_%s'%bands[1]][mm]\n",
    "plt.plot(y0,y1,'+')\n",
    "print scipy.stats.linregress(y0,y1)\n",
    "\n",
    "mm = ncdata['mod09']['mask_snow']\n",
    "y0 = ncdata['mod09']['BB_%s'%bands[0]][mm]\n",
    "y1 = ncdata['mod09']['BB_%s'%bands[1]][mm]\n",
    "plt.plot(y0,y1,'+')\n",
    "print scipy.stats.linregress(y0,y1)\n",
    "plt.xlabel('diffuse VIS')\n",
    "plt.ylabel('direct VIS')\n",
    "plt.legend(loc='best')\n",
    "plt.title('snow')\n",
    "plt.xlim(0,1)\n",
    "plt.ylim(0,1)"
   ]
  },
  {
   "cell_type": "code",
   "execution_count": null,
   "metadata": {
    "collapsed": false
   },
   "outputs": [],
   "source": [
    "qa = 0b11\n",
    "\n",
    "np.array(ncdata['mod09']['MODIS_Grid_500m_2D_Data_Fields_QC_500m']).squeeze() & qa"
   ]
  },
  {
   "cell_type": "code",
   "execution_count": null,
   "metadata": {
    "collapsed": false
   },
   "outputs": [],
   "source": [
    "BBrefl = (np.dot(BBweights[:,:-1],ncdata['mod09']['reflectance']).T + BBweights[:,-1]).T\n",
    "print ncdata['mod09']['reflectance'].shape,BBrefl[0].shape"
   ]
  },
  {
   "cell_type": "code",
   "execution_count": null,
   "metadata": {
    "collapsed": false
   },
   "outputs": [],
   "source": [
    "k = 'mod09'\n",
    "for kk in ncdata[k].keys():\n",
    "    print kk"
   ]
  },
  {
   "cell_type": "code",
   "execution_count": null,
   "metadata": {
    "collapsed": false
   },
   "outputs": [],
   "source": [
    "yeardoy = np.array([ [int(str(i)[:4]),int(str(i)[4:])] for i in ncdata['mod09']['doy']])\n",
    "\n",
    "\n",
    "np.array(ncdata['mod09']['MODIS_Grid_500m_2D_Data_Fields_QC_500m']).squeeze().astype(np.uint32).max()"
   ]
  },
  {
   "cell_type": "code",
   "execution_count": null,
   "metadata": {
    "collapsed": true
   },
   "outputs": [],
   "source": []
  }
 ],
 "metadata": {
  "kernelspec": {
   "display_name": "Python 2",
   "language": "python",
   "name": "python2"
  },
  "language_info": {
   "codemirror_mode": {
    "name": "ipython",
    "version": 2
   },
   "file_extension": ".py",
   "mimetype": "text/x-python",
   "name": "python",
   "nbconvert_exporter": "python",
   "pygments_lexer": "ipython2",
   "version": "2.7.10"
  }
 },
 "nbformat": 4,
 "nbformat_minor": 0
}
