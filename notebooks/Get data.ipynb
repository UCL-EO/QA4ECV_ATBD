{
 "cells": [
  {
   "cell_type": "markdown",
   "metadata": {},
   "source": [
    "# GlobAlbedo and associated algorithms"
   ]
  },
  {
   "cell_type": "markdown",
   "metadata": {},
   "source": [
    "P. Lewis and M. van Leeuwen, UCL/NCEO"
   ]
  },
  {
   "cell_type": "markdown",
   "metadata": {},
   "source": [
    "This first notebook deals with downloading the data from the database and constructing suitable data structures.\n",
    "\n",
    "The various forms of (netcdf) inputs are read and the data organised as a set of arrays in set of dictionaries.\n",
    "\n",
    "These dictionaries are then 'pickled' (saved to disk) for direct use in further processing."
   ]
  },
  {
   "cell_type": "code",
   "execution_count": 1,
   "metadata": {
    "collapsed": false
   },
   "outputs": [
    {
     "name": "stdout",
     "output_type": "stream",
     "text": [
      "data directory /Users/plewis/QA4ECV_ATBD/data\n"
     ]
    }
   ],
   "source": [
    "from defaults import *\n",
    "%matplotlib inline\n",
    "db = 'http://gws-access.cems.rl.ac.uk/public/globalbedo/.stackXY2/'"
   ]
  },
  {
   "cell_type": "code",
   "execution_count": 2,
   "metadata": {
    "collapsed": false
   },
   "outputs": [
    {
     "name": "stdout",
     "output_type": "stream",
     "text": [
      "========\n",
      "bbdr.flags []\n",
      "========\n",
      "bbdr.meris [u'aot_flags', u'BB_NIR', u'BB_VIS', u'Kvol_BRDF_NIR', u'Kgeo_BRDF_VIS', u'sig_BB_NIR_SW', u'RAA', u'SZA', u'Kgeo_BRDF_SW', u'Kgeo_BRDF_NIR', u'Kvol_BRDF_VIS', u'Kvol_BRDF_SW', u'sig_BB_SW_SW', u'cloud_classif_flags', u'VZA', u'sig_BB_NIR_NIR', u'snow_mask', u'BB_SW', 'doy', u'sig_BB_VIS_VIS', u'sig_BB_VIS_SW', u'sig_BB_VIS_NIR']\n",
      "========\n",
      "bbdr.vgt [u'aot_flags', u'BB_NIR', u'BB_VIS', u'Kvol_BRDF_NIR', u'Kgeo_BRDF_VIS', u'sig_BB_NIR_SW', u'RAA', u'SZA', u'Kgeo_BRDF_SW', u'Kgeo_BRDF_NIR', u'Kvol_BRDF_VIS', u'Kvol_BRDF_SW', u'sig_BB_SW_SW', u'cloud_classif_flags', u'VZA', u'sig_BB_NIR_NIR', u'snow_mask', u'BB_SW', 'doy', u'sig_BB_VIS_VIS', u'sig_BB_VIS_SW', u'sig_BB_VIS_NIR']\n",
      "========\n",
      "ga.brdf.merge [u'VAR_NIR_f2_SW_f2', u'VAR_VIS_f0_SW_f2', u'VAR_NIR_f2_SW_f0', u'VAR_NIR_f2_SW_f1', u'VAR_VIS_f2_NIR_f2', u'VAR_VIS_f2_NIR_f1', u'VAR_VIS_f2_NIR_f0', u'VAR_NIR_f0_SW_f0', u'VAR_NIR_f0_SW_f1', u'VAR_NIR_f0_SW_f2', u'VAR_VIS_f0_VIS_f2', u'VAR_VIS_f0_SW_f1', u'VAR_VIS_f0_VIS_f0', u'VAR_VIS_f0_VIS_f1', u'VAR_VIS_f0_SW_f0', u'VAR_SW_f0_SW_f2', u'VAR_VIS_f0_NIR_f2', u'VAR_SW_f1_SW_f1', u'VAR_SW_f1_SW_f2', u'mean_VIS_f2', u'VAR_NIR_f1_SW_f0', u'mean_VIS_f0', u'VAR_NIR_f1_SW_f2', u'VAR_VIS_f1_VIS_f1', u'VAR_VIS_f1_VIS_f2', u'VAR_VIS_f0_NIR_f1', u'VAR_VIS_f0_NIR_f0', u'mean_SW_f1', u'mean_SW_f0', u'VAR_VIS_f1_NIR_f2', u'VAR_NIR_f1_NIR_f2', u'VAR_NIR_f1_NIR_f1', u'mean_SW_f2', u'mean_NIR_f1', u'mean_NIR_f0', u'VAR_VIS_f1_NIR_f1', u'VAR_VIS_f2_SW_f1', u'VAR_VIS_f2_SW_f0', u'VAR_VIS_f1_NIR_f0', u'VAR_VIS_f2_SW_f2', u'VAR_NIR_f1_SW_f1', u'mean_NIR_f2', u'VAR_SW_f2_SW_f2', u'VAR_VIS_f1_SW_f2', u'VAR_SW_f0_SW_f1', u'VAR_SW_f0_SW_f0', u'VAR_VIS_f1_SW_f1', u'VAR_NIR_f0_NIR_f0', u'VAR_NIR_f0_NIR_f1', u'VAR_NIR_f0_NIR_f2', u'mean_VIS_f1', u'VAR_VIS_f1_SW_f0', 'doy', u'VAR_VIS_f2_VIS_f2', u'VAR_NIR_f2_NIR_f2']\n",
      "========\n",
      "ga.brdf.nosnow [u'VAR_NIR_f2_SW_f2', u'VAR_VIS_f0_SW_f2', u'VAR_NIR_f2_SW_f0', u'VAR_NIR_f2_SW_f1', u'VAR_VIS_f2_NIR_f2', u'VAR_VIS_f2_NIR_f1', u'VAR_VIS_f2_NIR_f0', u'VAR_NIR_f0_SW_f0', u'VAR_NIR_f0_SW_f1', u'VAR_NIR_f0_SW_f2', u'VAR_VIS_f0_VIS_f2', u'VAR_VIS_f0_SW_f1', u'VAR_VIS_f0_VIS_f0', u'VAR_VIS_f0_VIS_f1', u'VAR_VIS_f0_SW_f0', u'VAR_SW_f0_SW_f2', u'VAR_VIS_f0_NIR_f2', u'VAR_SW_f1_SW_f1', u'VAR_SW_f1_SW_f2', u'mean_VIS_f2', u'VAR_NIR_f1_SW_f0', u'mean_VIS_f0', u'VAR_NIR_f1_SW_f2', u'VAR_VIS_f1_VIS_f1', u'VAR_VIS_f1_VIS_f2', u'VAR_VIS_f0_NIR_f1', u'VAR_VIS_f0_NIR_f0', u'mean_SW_f1', u'mean_SW_f0', u'VAR_VIS_f1_NIR_f2', u'VAR_NIR_f1_NIR_f2', u'VAR_NIR_f1_NIR_f1', u'mean_SW_f2', u'mean_NIR_f1', u'mean_NIR_f0', u'VAR_VIS_f1_NIR_f1', u'VAR_VIS_f2_SW_f1', u'VAR_VIS_f2_SW_f0', u'VAR_VIS_f1_NIR_f0', u'VAR_VIS_f2_SW_f2', u'VAR_NIR_f1_SW_f1', u'mean_NIR_f2', u'VAR_SW_f2_SW_f2', u'VAR_VIS_f1_SW_f2', u'VAR_SW_f0_SW_f1', u'VAR_SW_f0_SW_f0', u'VAR_VIS_f1_SW_f1', u'VAR_NIR_f0_NIR_f0', u'VAR_NIR_f0_NIR_f1', u'VAR_NIR_f0_NIR_f2', u'mean_VIS_f1', u'VAR_VIS_f1_SW_f0', 'doy', u'VAR_VIS_f2_VIS_f2', u'VAR_NIR_f2_NIR_f2']\n",
      "========\n",
      "ga.brdf.snow [u'VAR_NIR_f2_SW_f2', u'VAR_VIS_f0_SW_f2', u'VAR_NIR_f2_SW_f0', u'VAR_NIR_f2_SW_f1', u'VAR_VIS_f2_NIR_f2', u'VAR_VIS_f2_NIR_f1', u'VAR_VIS_f2_NIR_f0', u'VAR_NIR_f0_SW_f0', u'VAR_NIR_f0_SW_f1', u'VAR_NIR_f0_SW_f2', u'VAR_VIS_f0_VIS_f2', u'VAR_VIS_f0_SW_f1', u'VAR_VIS_f0_VIS_f0', u'VAR_VIS_f0_VIS_f1', u'VAR_VIS_f0_SW_f0', u'VAR_SW_f0_SW_f2', u'VAR_VIS_f0_NIR_f2', u'VAR_SW_f1_SW_f1', u'VAR_SW_f1_SW_f2', u'mean_VIS_f2', u'VAR_NIR_f1_SW_f0', u'mean_VIS_f0', u'VAR_NIR_f1_SW_f2', u'VAR_VIS_f1_VIS_f1', u'VAR_VIS_f1_VIS_f2', u'VAR_VIS_f0_NIR_f1', u'VAR_VIS_f0_NIR_f0', u'mean_SW_f1', u'mean_SW_f0', u'VAR_VIS_f1_NIR_f2', u'VAR_NIR_f1_NIR_f2', u'VAR_NIR_f1_NIR_f1', u'mean_SW_f2', u'mean_NIR_f1', u'mean_NIR_f0', u'VAR_VIS_f1_NIR_f1', u'VAR_VIS_f2_SW_f1', u'VAR_VIS_f2_SW_f0', u'VAR_VIS_f1_NIR_f0', u'VAR_VIS_f2_SW_f2', u'VAR_NIR_f1_SW_f1', u'mean_NIR_f2', u'VAR_SW_f2_SW_f2', u'VAR_VIS_f1_SW_f2', u'VAR_SW_f0_SW_f1', u'VAR_SW_f0_SW_f0', u'VAR_VIS_f1_SW_f1', u'VAR_NIR_f0_NIR_f0', u'VAR_NIR_f0_NIR_f1', u'VAR_NIR_f0_NIR_f2', u'mean_VIS_f1', u'VAR_VIS_f1_SW_f0', 'doy', u'VAR_VIS_f2_VIS_f2', u'VAR_NIR_f2_NIR_f2']\n",
      "========\n",
      "mod09 [u'MODIS_Grid_500m_2D_Data_Fields_obscov_500m', u'MODIS_Grid_500m_2D_Data_Fields_iobs_res', u'MODIS_Grid_1km_2D_Data_Fields_SensorZenith', u'MODIS_Grid_1km_2D_Data_Fields_SolarZenith', u'MODIS_Grid_1km_2D_Data_Fields_Range', u'MODIS_Grid_1km_2D_Data_Fields_gflags', u'MODIS_Grid_1km_2D_Data_Fields_orbit_pnt', u'MODIS_Grid_500m_2D_Data_Fields_q_scan', u'MODIS_Grid_500m_2D_Data_Fields_sur_refl_b07', u'MODIS_Grid_500m_2D_Data_Fields_sur_refl_b06', u'MODIS_Grid_500m_2D_Data_Fields_sur_refl_b05', u'MODIS_Grid_500m_2D_Data_Fields_sur_refl_b04', u'MODIS_Grid_500m_2D_Data_Fields_sur_refl_b03', u'MODIS_Grid_500m_2D_Data_Fields_sur_refl_b02', u'MODIS_Grid_500m_2D_Data_Fields_sur_refl_b01', u'MODIS_Grid_1km_2D_Data_Fields_state_1km', u'MODIS_Grid_1km_2D_Data_Fields_granule_pnt', u'MODIS_Grid_1km_2D_Data_Fields_SolarAzimuth', u'MODIS_Grid_1km_2D_Data_Fields_SensorAzimuth', u'MODIS_Grid_500m_2D_Data_Fields_QC_500m', 'doy']\n",
      "========\n",
      "myd09 [u'MODIS_Grid_500m_2D_Data_Fields_obscov_500m', u'MODIS_Grid_500m_2D_Data_Fields_iobs_res', u'MODIS_Grid_1km_2D_Data_Fields_SensorZenith', u'MODIS_Grid_1km_2D_Data_Fields_SolarZenith', u'MODIS_Grid_1km_2D_Data_Fields_Range', u'MODIS_Grid_1km_2D_Data_Fields_gflags', u'MODIS_Grid_1km_2D_Data_Fields_orbit_pnt', u'MODIS_Grid_500m_2D_Data_Fields_q_scan', u'MODIS_Grid_500m_2D_Data_Fields_sur_refl_b07', u'MODIS_Grid_500m_2D_Data_Fields_sur_refl_b06', u'MODIS_Grid_500m_2D_Data_Fields_sur_refl_b05', u'MODIS_Grid_500m_2D_Data_Fields_sur_refl_b04', u'MODIS_Grid_500m_2D_Data_Fields_sur_refl_b03', u'MODIS_Grid_500m_2D_Data_Fields_sur_refl_b02', u'MODIS_Grid_500m_2D_Data_Fields_sur_refl_b01', u'MODIS_Grid_1km_2D_Data_Fields_state_1km', u'MODIS_Grid_1km_2D_Data_Fields_granule_pnt', u'MODIS_Grid_1km_2D_Data_Fields_SolarAzimuth', u'MODIS_Grid_1km_2D_Data_Fields_SensorAzimuth', u'MODIS_Grid_500m_2D_Data_Fields_QC_500m', 'doy']\n",
      "========\n",
      "prior.v2.nosnow [u'Cov_NIR_f2_NIR_f2', u'Cov_VIS_f0_VIS_f1', u'Cov_VIS_f0_VIS_f0', u'Cov_VIS_f0_VIS_f2', u'Cov_VIS_f0_SW_f2', u'Cov_VIS_f0_SW_f0', u'Cov_VIS_f0_SW_f1', u'Cov_VIS_f2_VIS_f2', u'Cov_NIR_f0_NIR_f2', u'Cov_NIR_f0_NIR_f1', u'Cov_NIR_f0_NIR_f0', u'Cov_SW_f2_SW_f2', u'Cov_NIR_f1_SW_f0', u'Cov_VIS_f2_NIR_f1', u'Cov_NIR_f1_SW_f2', u'Cov_NIR_f2_SW_f0', u'Mean_VIS', u'Cov_NIR_f1_NIR_f1', u'Cov_NIR_f1_NIR_f2', u'Cov_VIS_f0_NIR_f2', u'Mean_NIR', u'Cov_VIS_f0_NIR_f0', u'Cov_VIS_f0_NIR_f1', u'Cov_NIR_f0_SW_f1', u'Cov_NIR_f0_SW_f0', u'Cov_VIS_f1_SW_f2', u'Cov_SW_f0_SW_f2', u'Cov_SW_f0_SW_f1', u'Cov_SW_f0_SW_f0', u'Cov_NIR_f2_SW_f2', u'Cov_NIR_f2_SW_f1', u'Cov_NIR_f1_SW_f1', u'Data_Mask', u'Cov_VIS_f1_SW_f0', u'Cov_VIS_f2_NIR_f2', u'Snow_Fraction', u'Cov_VIS_f2_SW_f0', u'Cov_VIS_f2_SW_f1', u'Cov_VIS_f2_SW_f2', u'Cov_VIS_f1_SW_f1', u'Cov_VIS_f1_NIR_f1', u'Cov_VIS_f1_NIR_f0', u'Cov_VIS_f1_NIR_f2', u'Mean_SW', u'Cov_VIS_f1_VIS_f2', u'Cov_VIS_f1_VIS_f1', u'Cov_VIS_f2_NIR_f0', 'doy', u'Cov_SW_f1_SW_f2', u'Cov_SW_f1_SW_f1', u'Cov_NIR_f0_SW_f2']\n",
      "========\n",
      "prior.v2.snow [u'Cov_NIR_f2_NIR_f2', u'Cov_VIS_f0_VIS_f1', u'Cov_VIS_f0_VIS_f0', u'Cov_VIS_f0_VIS_f2', u'Cov_VIS_f0_SW_f2', u'Cov_VIS_f0_SW_f0', u'Cov_VIS_f0_SW_f1', u'Cov_VIS_f2_VIS_f2', u'Cov_NIR_f0_NIR_f2', u'Cov_NIR_f0_NIR_f1', u'Cov_NIR_f0_NIR_f0', u'Cov_SW_f2_SW_f2', u'Cov_NIR_f1_SW_f0', u'Cov_VIS_f2_NIR_f1', u'Cov_NIR_f1_SW_f2', u'Cov_NIR_f2_SW_f0', u'Mean_VIS', u'Cov_NIR_f1_NIR_f1', u'Cov_NIR_f1_NIR_f2', u'Cov_VIS_f0_NIR_f2', u'Mean_NIR', u'Cov_VIS_f0_NIR_f0', u'Cov_VIS_f0_NIR_f1', u'Cov_NIR_f0_SW_f1', u'Cov_NIR_f0_SW_f0', u'Cov_VIS_f1_SW_f2', u'Cov_SW_f0_SW_f2', u'Cov_SW_f0_SW_f1', u'Cov_SW_f0_SW_f0', u'Cov_NIR_f2_SW_f2', u'Cov_NIR_f2_SW_f1', u'Cov_NIR_f1_SW_f1', u'Data_Mask', u'Cov_VIS_f1_SW_f0', u'Cov_VIS_f2_NIR_f2', u'Snow_Fraction', u'Cov_VIS_f2_SW_f0', u'Cov_VIS_f2_SW_f1', u'Cov_VIS_f2_SW_f2', u'Cov_VIS_f1_SW_f1', u'Cov_VIS_f1_NIR_f1', u'Cov_VIS_f1_NIR_f0', u'Cov_VIS_f1_NIR_f2', u'Mean_SW', u'Cov_VIS_f1_VIS_f2', u'Cov_VIS_f1_VIS_f1', u'Cov_VIS_f2_NIR_f0', 'doy', u'Cov_SW_f1_SW_f2', u'Cov_SW_f1_SW_f1', u'Cov_NIR_f0_SW_f2']\n",
      "========\n",
      "prior.v2.snownosnow [u'Cov_NIR_f2_NIR_f2', u'Cov_VIS_f0_VIS_f1', u'Cov_VIS_f0_VIS_f0', u'Cov_VIS_f0_VIS_f2', u'Cov_VIS_f0_SW_f2', u'Cov_VIS_f0_SW_f0', u'Cov_VIS_f0_SW_f1', u'Cov_VIS_f2_VIS_f2', u'Cov_NIR_f0_NIR_f2', u'Cov_NIR_f0_NIR_f1', u'Cov_NIR_f0_NIR_f0', u'Cov_SW_f2_SW_f2', u'Cov_NIR_f1_SW_f0', u'Cov_VIS_f2_NIR_f1', u'Cov_NIR_f1_SW_f2', u'Cov_NIR_f2_SW_f0', u'Mean_VIS', u'Cov_NIR_f1_NIR_f1', u'Cov_NIR_f1_NIR_f2', u'Cov_VIS_f0_NIR_f2', u'Mean_NIR', u'Cov_VIS_f0_NIR_f0', u'Cov_VIS_f0_NIR_f1', u'Cov_NIR_f0_SW_f1', u'Cov_NIR_f0_SW_f0', u'Cov_VIS_f1_SW_f2', u'Cov_SW_f0_SW_f2', u'Cov_SW_f0_SW_f1', u'Cov_SW_f0_SW_f0', u'Cov_NIR_f2_SW_f2', u'Cov_NIR_f2_SW_f1', u'Cov_NIR_f1_SW_f1', u'Data_Mask', u'Cov_VIS_f1_SW_f0', u'Cov_VIS_f2_NIR_f2', u'Snow_Fraction', u'Cov_VIS_f2_SW_f0', u'Cov_VIS_f2_SW_f1', u'Cov_VIS_f2_SW_f2', u'Cov_VIS_f1_SW_f1', u'Cov_VIS_f1_NIR_f1', u'Cov_VIS_f1_NIR_f0', u'Cov_VIS_f1_NIR_f2', u'Mean_SW', u'Cov_VIS_f1_VIS_f2', u'Cov_VIS_f1_VIS_f1', u'Cov_VIS_f2_NIR_f0', 'doy', u'Cov_SW_f1_SW_f2', u'Cov_SW_f1_SW_f1', u'Cov_NIR_f0_SW_f2']\n",
      "\n"
     ]
    }
   ],
   "source": [
    "'''\n",
    "Contact the server for a listing and \n",
    "if doit is True download the files and pack into\n",
    "the dictionary ncfiles. \n",
    "\n",
    "Actually, all we really need (to access pre-stored pickle files)\n",
    "is to set the variable  `datakeys`\n",
    "\n",
    "Here, we expose the contents of the various datasets (the keys)\n",
    "'''\n",
    "\n",
    "doit = False\n",
    "datakeys = np.array(['bbdr.flags', 'bbdr.meris', 'bbdr.vgt', 'ga.brdf.merge',\\\n",
    "       'ga.brdf.nosnow', 'ga.brdf.snow', 'mod09', 'myd09',\\\n",
    "       'prior.v2.nosnow', 'prior.v2.snow', 'prior.v2.snownosnow'])\n",
    "\n",
    "if doit:\n",
    "    # set True if you want to download as well\n",
    "    ncfiles = obtain_data(db,doit=doit)\n",
    "    for k in datakeys:\n",
    "        print '========'\n",
    "        print k,ncfiles[k].keys()\n",
    "else:\n",
    "    ncdata = {}\n",
    "    for k in datakeys:\n",
    "        print '========'\n",
    "        print k,\n",
    "        ncdata[k] = {}        \n",
    "        ncdata[k] = load_obj('obj/'+ k + '_s1.0_' )            \n",
    "        print ncdata[k].keys()\n",
    "print\n"
   ]
  },
  {
   "cell_type": "code",
   "execution_count": 3,
   "metadata": {
    "collapsed": false
   },
   "outputs": [],
   "source": [
    "'''\n",
    "Form the data dictionary (in ncdata), reading and storing each of the\n",
    "datasets in datakeys.\n",
    "\n",
    "The only complexities in the code are to do with correcting some variants\n",
    "(e.g. 'MEAN__BAND________' -> 'MEAN_BAND')\n",
    "\n",
    "The default parsing splits the key on _1_:\n",
    "\n",
    "thiskey = kk.split('_1_')[0]\n",
    "\n",
    "A set of 'special' keys are defined that need to be split / interpreted differently\n",
    "These are specified in the dictionary specials, with the key name and an integer specifying\n",
    "how many terms to include.\n",
    "\n",
    "To decode the TIME field, we look at the keys for\n",
    "'Cov_NIR_f0_NIR_f0','VAR_NIR_f0_NIR_f0','BB_NIR','MODIS_Grid_1km_2D_Data_Fields_Range'\n",
    "any one of which can lead to the time field.\n",
    "\n",
    "'''\n",
    "if doit:\n",
    "    print ncfiles\n",
    "    ncdata = {}\n",
    "\n",
    "    # the integer specifies how many _ fields to include\n",
    "    # eg var/covar are functions of band and kernel so 4 variables, so 5\n",
    "    specials = {\n",
    "        'Data_Mask_':2,\n",
    "        'Cov_':5,\n",
    "        'Mean_':2,\n",
    "        'VAR_':5,\n",
    "        'mean_':3,\n",
    "        'BB_':2,\n",
    "        'sig_BB_':4,\n",
    "        'Kgeo_BRDF':3,\n",
    "        'Kvol_BRDF':3,\n",
    "        'Kiso_BRDF':3\n",
    "    }\n",
    "\n",
    "    for k in datakeys:\n",
    "        k =  k.strip('/')\n",
    "        ncdata[k] = {}\n",
    "        print k\n",
    "        try:\n",
    "            ncdata[k] = load_obj('obj/'+ k + '_s1.0_')\n",
    "        except:\n",
    "            for i in xrange(len(ncfiles[k])):\n",
    "                ncfile = Dataset('./' +k+'/'+ncfiles[k][i],'r')         \n",
    "                for kk in np.sort(ncfile.variables.keys()):\n",
    "                    # different data keys in different prior versions    \n",
    "                    # Fix MEAN__BAND________\n",
    "                    for terms in ['MEAN__BAND________']:\n",
    "                        thiskey = kk\n",
    "                        if thiskey[:len(terms)] == terms:\n",
    "                            thiskey = 'MEAN_BAND_'+thiskey.split(terms)[1:]\n",
    "                            # eg 0_PARAMETER_F0_0000001_000000\n",
    "\n",
    "                    # default\n",
    "                    thiskey = kk.split('_1_')[0]\n",
    "\n",
    "                    # check if its in the specials\n",
    "                    for terms in specials.keys():\n",
    "                        if thiskey[:len(terms)] == terms:\n",
    "                            thiskey = '_'.join(kk.split('_')[:specials[terms]])\n",
    "\n",
    "                    # time - specific examples for hooks into time field\n",
    "                    for terms in ['Cov_NIR_f0_NIR_f0','VAR_NIR_f0_NIR_f0','BB_NIR',\\\n",
    "                                 'MODIS_Grid_1km_2D_Data_Fields_Range']:\n",
    "                        if thiskey[:len(terms)] == terms:\n",
    "                            doy = int(kk.split('_')[-2])\n",
    "                            if ('doy' not in ncdata[k]):\n",
    "                                print 'TIME'\n",
    "                                ncdata[k]['doy'] = []\n",
    "                            ncdata[k]['doy'].append(doy)\n",
    "\n",
    "                    # other quite special ones, but all of a pattern\n",
    "                    # e.g. Snow_Fraction_XXX -> Snow_Fraction\n",
    "                    for terms in ['Snow_Fraction','Goodness_of_Fit','cloud_classif_flags','aot_flags',\\\n",
    "                                 'snow_mask','RAA','SZA','VZA']:\n",
    "                        # prior\n",
    "                        nn = terms.count('_') + 1\n",
    "                        if thiskey[:len(terms)] == terms:\n",
    "                            thiskey = '_'.join(kk.split('_')[:nn]) \n",
    "\n",
    "\n",
    "                    # ignore these ones\n",
    "                    dontdoit = False\n",
    "                    for terms in ['Weighted_Number_of_Samples', 'Entropy', 'lat', 'lon',\\\n",
    "                                 'Goodness_of_Fit','Relative_Entropy','Time_to_the_Closest_Sample',\\\n",
    "                                 'AOD550','DEM','NDVI','SM','sig_AOD550','sig_NDVI',\\\n",
    "                                 'Proportion_NSamples','l1_flags',\\\n",
    "                                  'MODIS_Grid_1km_2D_Data_Fields_num_observations_1km',\\\n",
    "                                 'MODIS_Grid_500m_2D_Data_Fields_num_observations_500m']:\n",
    "                        nn = terms.count('_') + 1\n",
    "                        if thiskey[:len(terms)] == terms:\n",
    "                            dontdoit = True\n",
    "                            thiskey = '_'.join(kk.split('_')[:nn]) \n",
    "\n",
    "                    if not dontdoit:\n",
    "                        if (thiskey not in ncdata[k]):\n",
    "                            print k,thiskey,\";\",\n",
    "                            ncdata[k][thiskey] = []\n",
    "                        # read the data\n",
    "                        thisdata = ncfile.variables[kk][:]\n",
    "                        ncdata[k][thiskey].append(thisdata)\n",
    "                del ncfile\n",
    "            save_obj(ncdata[k],'obj/'+k+'_s1.0_')\n",
    "\n"
   ]
  },
  {
   "cell_type": "code",
   "execution_count": 4,
   "metadata": {
    "collapsed": false
   },
   "outputs": [
    {
     "name": "stdout",
     "output_type": "stream",
     "text": [
      "bbdr.flags\n",
      "bbdr.meris \tdate\n",
      "bbdr.vgt \tdate\n",
      "ga.brdf.merge \tdate\n",
      "ga.brdf.nosnow \tdate\n",
      "ga.brdf.snow \tdate\n",
      "mod09 \tdate\n",
      "myd09 \tdate\n",
      "prior.v2.nosnow\n",
      "prior.v2.snow\n",
      "prior.v2.snownosnow\n"
     ]
    }
   ],
   "source": [
    "# sort doys\n",
    "for k in datakeys:\n",
    "    print k,\n",
    "    # prior has doy only\n",
    "    if k[:5] != 'prior' and ('doy' in ncdata[k].keys()):\n",
    "        print '\\tdate'\n",
    "        ncdata[k]['date'] = np.atleast_1d(np.zeros(0))\n",
    "        ncdata[k]['yeardoy'] = np.array([ [int(str(i)[:4]),int(str(i)[4:])] for i in ncdata[k]['doy']])\n",
    "        for year,doy in ncdata[k]['yeardoy']:\n",
    "            ncdata[k]['date'] = np.append(ncdata[k]['date'],\\\n",
    "                                          datetime.date(year, 1, 1) + datetime.timedelta(days=doy))\n",
    "    else:\n",
    "        print "
   ]
  },
  {
   "cell_type": "markdown",
   "metadata": {},
   "source": [
    "## Modis QA mask\n",
    "\n",
    "![\"https://lpdaac.usgs.gov/dataset_discovery/modis/modis_products_table/mod09a1\"][qatxt]\n",
    "\n",
    "![\"https://lpdaac.usgs.gov/dataset_discovery/modis/modis_products_table/mod09a1\"][qatxt1]\n",
    "\n",
    "[qatxt]: qa32table.png \"https://lpdaac.usgs.gov/dataset_discovery/modis/modis_products_table/mod09a1\"\n",
    "[qatxt1]: qatable.png \"https://lpdaac.usgs.gov/dataset_discovery/modis/modis_products_table/mod09a1\""
   ]
  },
  {
   "cell_type": "code",
   "execution_count": 5,
   "metadata": {
    "collapsed": false
   },
   "outputs": [
    {
     "name": "stdout",
     "output_type": "stream",
     "text": [
      "[u'MODIS_Grid_1km_2D_Data_Fields_SensorZenith', u'MODIS_Grid_500m_2D_Data_Fields_q_scan', u'MODIS_Grid_1km_2D_Data_Fields_SensorAzimuth', 'yeardoy', u'MODIS_Grid_1km_2D_Data_Fields_SolarAzimuth', u'MODIS_Grid_500m_2D_Data_Fields_obscov_500m', u'MODIS_Grid_500m_2D_Data_Fields_iobs_res', u'MODIS_Grid_1km_2D_Data_Fields_SolarZenith', u'MODIS_Grid_1km_2D_Data_Fields_Range', u'MODIS_Grid_1km_2D_Data_Fields_orbit_pnt', u'MODIS_Grid_500m_2D_Data_Fields_sur_refl_b07', u'MODIS_Grid_500m_2D_Data_Fields_sur_refl_b06', u'MODIS_Grid_500m_2D_Data_Fields_sur_refl_b05', u'MODIS_Grid_500m_2D_Data_Fields_sur_refl_b04', u'MODIS_Grid_500m_2D_Data_Fields_sur_refl_b03', u'MODIS_Grid_500m_2D_Data_Fields_sur_refl_b02', u'MODIS_Grid_500m_2D_Data_Fields_sur_refl_b01', u'MODIS_Grid_1km_2D_Data_Fields_state_1km', u'MODIS_Grid_1km_2D_Data_Fields_granule_pnt', 'date', u'MODIS_Grid_1km_2D_Data_Fields_gflags', 'doy', u'MODIS_Grid_500m_2D_Data_Fields_QC_500m']\n"
     ]
    }
   ],
   "source": [
    "# The following keys are available for the MODIS datasets\n",
    "\n",
    "print ncdata['mod09'].keys()"
   ]
  },
  {
   "cell_type": "markdown",
   "metadata": {},
   "source": [
    "The MODIS QA mask for this product is specified on the [USGS site](https://lpdaac.usgs.gov/dataset_discovery/modis/modis_products_table/mod09a1).\n",
    "\n",
    "Here, we will decode `MODIS_Grid_1km_2D_Data_Fields_state_1km`:"
   ]
  },
  {
   "cell_type": "code",
   "execution_count": 6,
   "metadata": {
    "collapsed": false
   },
   "outputs": [
    {
     "name": "stdout",
     "output_type": "stream",
     "text": [
      "MODIS_Grid_500m_2D_Data_Fields_QC_500m <type 'list'> <type 'numpy.ndarray'> int32 1073741824 1107296256 1073741824 1107296256 1103101952 1073741824 1073741824 1073741824 1073741824 1073741824\n",
      "MODIS_Grid_1km_2D_Data_Fields_state_1km <type 'list'> <type 'numpy.ndarray'> int16 8394 1033 1801 1033 72 136 1033 1033 1033 1033\n",
      "MODIS_Grid_500m_2D_Data_Fields_sur_refl_b01 <type 'list'> <type 'numpy.ndarray'> int16 1118 8505 2309 7914 221 163 7112 3142 7506 9345\n",
      "MODIS_Grid_500m_2D_Data_Fields_QC_500m <type 'numpy.ndarray'> <type 'numpy.uint32'> uint32 1073741824 1107296256 1073741824 1107296256 1103101952 1073741824 1073741824 1073741824 1073741824 1073741824\n",
      "MODIS_Grid_1km_2D_Data_Fields_state_1km <type 'numpy.ndarray'> <type 'numpy.uint16'> uint16 8394 1033 1801 1033 72 136 1033 1033 1033 1033\n",
      "MODIS_Grid_500m_2D_Data_Fields_sur_refl_b01 <type 'numpy.ndarray'> <type 'numpy.float64'> float64 0.1118 0.8505 0.2309 0.7914 0.0221 0.0163 0.7112 0.3142 0.7506 0.9345\n",
      "valid:  8 72 136 200\n",
      "There are 8 values with value 8 0b1000\n",
      "[ 0.0354  0.036   0.0297  0.0369  0.0198  0.0607  0.05    0.0401]\n",
      "========================\n",
      "There are 323 values with value 72 0b1001000\n",
      "[ 0.0221  0.0154  0.0203  0.0178  0.03    0.0174  0.0329  0.0478  0.0434\n",
      "  0.0383  0.0505  0.0364  0.0431  0.0435  0.0444  0.05    0.0181  0.0148\n",
      "  0.0196  0.0195  0.0217  0.0153  0.0189  0.0165  0.0273  0.0204  0.0217\n",
      "  0.0362  0.0291  0.0412  0.0278  0.0552  0.0374  0.0519  0.0243  0.05\n",
      "  0.0503  0.0194  0.0209  0.0202  0.0174  0.0176  0.0159  0.0217  0.0228\n",
      "  0.0174  0.0177  0.0276  0.0234  0.0379  0.0343  0.0437  0.039   0.031\n",
      "  0.0282  0.0268  0.0162  0.0223  0.0133  0.0187  0.0122  0.0172  0.018\n",
      "  0.0153  0.0147  0.0163  0.0166  0.0212  0.0148  0.0226  0.0154  0.0227\n",
      "  0.0166  0.0162  0.03    0.028   0.0318  0.0411  0.0415  0.042   0.0498\n",
      "  0.0409  0.028   0.0302  0.0147  0.0168  0.0148  0.0138  0.0208  0.0217\n",
      "  0.0149  0.0206  0.0143  0.0203  0.014   0.0164  0.0213  0.0227  0.0197\n",
      "  0.0318  0.0237  0.0406  0.0216  0.0276  0.0582  0.0409  0.0499  0.0448\n",
      "  0.0515  0.0386  0.0352  0.046   0.0332  0.0402  0.0381  0.0319  0.0262\n",
      "  0.0404  0.0251  0.037   0.0181  0.0151  0.0245  0.0164  0.0218  0.0262\n",
      "  0.0195  0.0324  0.04    0.053   0.0293  0.0534  0.0578  0.0378  0.0495\n",
      "  0.0277  0.038   0.023   0.0272  0.0135  0.0115  0.0155  0.0197  0.0192\n",
      "  0.012   0.0154  0.015   0.0207  0.0152  0.0268  0.0239  0.0517  0.0564\n",
      "  0.0543  0.0297  0.0486  0.0475  0.0474  0.0456  0.0298  0.0248  0.0161\n",
      "  0.0156  0.0222  0.0178  0.0245  0.0271  0.0203  0.0196  0.0198  0.0331\n",
      "  0.0321  0.0414  0.0451  0.0548  0.0368  0.0458  0.0507  0.0469  0.0309\n",
      "  0.0395  0.0153  0.022   0.02    0.0133  0.017   0.0175  0.0225  0.0153\n",
      "  0.0229  0.0203  0.0457  0.0353  0.0396  0.0488  0.0413  0.0251  0.0383\n",
      "  0.036   0.0407  0.0537  0.0489  0.0452  0.0549  0.0412  0.0396  0.0493\n",
      "  0.042   0.0479  0.0396  0.0396  0.0512  0.0371  0.0569  0.0381  0.041\n",
      "  0.0363  0.0242  0.0316  0.0194  0.0282  0.0241  0.0249  0.0231  0.0199\n",
      "  0.038   0.0281  0.0276  0.044   0.0244  0.0249  0.0311  0.0277  0.0391\n",
      "  0.0379  0.0598  0.0538  0.0351  0.028   0.044   0.0399  0.0451  0.0428\n",
      "  0.0507  0.0392  0.0382  0.0503  0.0239  0.0158  0.0217  0.0245  0.0153\n",
      "  0.015   0.0182  0.0236  0.019   0.0267  0.0183  0.0267  0.0309  0.0698\n",
      "  0.0408  0.0312  0.0129  0.0139  0.0183  0.0145  0.0181  0.016   0.0244\n",
      "  0.0386  0.0186  0.0283  0.0198  0.0282  0.022   0.0307  0.0469  0.0429\n",
      "  0.0419  0.0367  0.0201  0.0238  0.0151  0.0223  0.025   0.0234  0.0179\n",
      "  0.0257  0.0203  0.0305  0.0255  0.0336  0.032   0.0534  0.0434  0.0444\n",
      "  0.0503  0.0318  0.0371  0.0506  0.0384  0.0443  0.0444  0.0424  0.0325\n",
      "  0.026   0.0364  0.0208  0.0169  0.0262  0.0204  0.0139  0.0164  0.0156\n",
      "  0.0169  0.0192  0.0221  0.0211  0.0208  0.0345  0.036   0.0332]\n",
      "========================\n",
      "There are 191 values with value 136 0b10001000\n",
      "[ 0.0163  0.0218  0.0198  0.029   0.0331  0.0545  0.0435  0.0484  0.0398\n",
      "  0.0392  0.0401  0.0226  0.0151  0.0145  0.016   0.0124  0.0181  0.0248\n",
      "  0.0237  0.0287  0.0169  0.0158  0.0395  0.0293  0.0177  0.0209  0.0311\n",
      "  0.068   0.0577  0.0418  0.0168  0.0191  0.0213  0.0291  0.0194  0.028\n",
      "  0.0336  0.0642  0.045   0.0324  0.0302  0.0166  0.0208  0.0188  0.0156\n",
      "  0.0214  0.0159  0.0158  0.0282  0.0496  0.0343  0.0376  0.0484  0.0498\n",
      "  0.0292  0.0581  0.0214  0.014   0.0158  0.02    0.0154  0.0219  0.0273\n",
      "  0.0224  0.0211  0.0312  0.0354  0.0411  0.0342  0.0308  0.0334  0.0399\n",
      "  0.0442  0.0503  0.0507  0.0473  0.0358  0.0363  0.037   0.0322  0.0261\n",
      "  0.0326  0.0178  0.0215  0.0225  0.0162  0.0132  0.0255  0.0302  0.0366\n",
      "  0.0415  0.0426  0.026   0.0236  0.0109  0.0109  0.0219  0.0592  0.0428\n",
      "  0.0585  0.0442  0.0518  0.0391  0.0348  0.0192  0.0159  0.0175  0.0186\n",
      "  0.0192  0.0212  0.0308  0.0196  0.0217  0.0252  0.055   0.0398  0.0549\n",
      "  0.0302  0.0155  0.0438  0.0423  0.0407  0.0496  0.0354  0.0187  0.0185\n",
      "  0.0151  0.022   0.0206  0.017   0.0255  0.0322  0.0396  0.0327  0.029\n",
      "  0.0321  0.0313  0.028   0.0331  0.0363  0.0215  0.0597  0.0529  0.0508\n",
      "  0.0471  0.0368  0.0235  0.0257  0.0147  0.0251  0.0239  0.0186  0.0203\n",
      "  0.0215  0.0204  0.0377  0.0164  0.0268  0.0489  0.0184  0.0202  0.0132\n",
      "  0.0168  0.0296  0.0137  0.0545  0.041   0.0433  0.0389  0.0357  0.0357\n",
      "  0.0223  0.023   0.0544  0.0421  0.0861  0.0541  0.0353  0.0256  0.0265\n",
      "  0.0192  0.0251  0.0252  0.0243  0.0162  0.0184  0.0181  0.0164  0.0204\n",
      "  0.0253  0.0308]\n",
      "========================\n",
      "There are 56 values with value 200 0b11001000\n",
      "[ 0.0166  0.0206  0.0268  0.0316  0.032   0.0569  0.0329  0.048   0.0434\n",
      "  0.0161  0.0132  0.0291  0.0302  0.0104  0.0275  0.0457  0.0115  0.0194\n",
      "  0.011   0.0132  0.0216  0.0341  0.0539  0.0228  0.0275  0.0414  0.0468\n",
      "  0.0407  0.059   0.0207  0.0185  0.0426  0.0307  0.0356  0.029   0.0323\n",
      "  0.0747  0.0747  0.0202  0.0234  0.0099  0.0444  0.0531  0.0505  0.041\n",
      "  0.0415  0.034   0.0263  0.0421  0.0451  0.0269  0.0849  0.0217  0.0197\n",
      "  0.0311  0.0313]\n",
      "========================\n"
     ]
    }
   ],
   "source": [
    "qa = ncdata['myd09']['MODIS_Grid_500m_2D_Data_Fields_QC_500m']\n",
    "qa2 = ncdata['myd09']['MODIS_Grid_1km_2D_Data_Fields_state_1km']\n",
    "r = ncdata['myd09']['MODIS_Grid_500m_2D_Data_Fields_sur_refl_b01']\n",
    "\n",
    "# print some info and examples\n",
    "qa_ = np.array(qa).astype(np.uint32).flatten()\n",
    "qa2_ = np.array(qa2).astype(np.uint16).flatten()\n",
    "r_ = np.array(r).astype(np.int16).flatten() * 0.0001\n",
    "\n",
    "names = ['MODIS_Grid_500m_2D_Data_Fields_QC_500m','MODIS_Grid_1km_2D_Data_Fields_state_1km',\\\n",
    "         'MODIS_Grid_500m_2D_Data_Fields_sur_refl_b01']\n",
    "\n",
    "for i,v in enumerate([qa,qa2,r]):\n",
    "    print names[i],type(v),type(v[0]),v[0].dtype,\n",
    "    for i in xrange(10):\n",
    "        print v[i][0][0],\n",
    "    print\n",
    "\n",
    "for i,v in enumerate([qa_,qa2_,r_]):\n",
    "    print names[i],type(v),type(v[0]),v[0].dtype,\n",
    "    for i in xrange(10):\n",
    "        print v[i],\n",
    "    print \n",
    "    \n",
    "# The fill value is 4294967295\n",
    "# so lets see how many of these we have\n",
    "'''\n",
    "for i in np.sort(np.array(np.unique(qa2_)).astype(int)):\n",
    "    print 'There are',(qa2_ == i).sum(),'values with value %d'%i,bin(i)\n",
    "    print r_[qa2_ == i]\n",
    "    print '========================'\n",
    "'''\n",
    "    \n",
    "    \n",
    "# 136?\n",
    "\n",
    "qcstr = ''\n",
    "# lets look at the 6 bits that tell us clear, land\n",
    "bitmask = 2**6-1\n",
    "for i in np.sort(np.unique(qa2_).astype(np.uint16)):\n",
    "    m = i & bitmask\n",
    "    '''\n",
    "     clear, land (NB - land only!)\n",
    "     bit 10 : internal cloud algorithm flag  -- trust this\n",
    "     bit 13 : Pixel is adjacent to cloud -- best not use if possible\n",
    "     bit 12 : MOD35 snow/ice flag -- exclude snow in this test\n",
    "     bit 2: cloud shadow - trust this\n",
    "     bit 15 : internal snow algorithm -- exclude snow in this test\n",
    "    '''\n",
    "    if m == 0b001000:\n",
    "        if not (((i & 2**10)>>10) or ((i & 2**13)>>13) or ((i & 2**12)>>12) \\\n",
    "                or ((i & 2**2)>>2) or ((i & 2**15)>>15)): \n",
    "            '''\n",
    "            print '==========='\n",
    "            print i,bin(i)\n",
    "            print '==========='\n",
    "            for b in xrange(15):\n",
    "                print b,((i & 2**b)>>b)\n",
    "            '''\n",
    "            qcstr += ' ' + str(i)\n",
    "        \n",
    "#qcstr = '8 72 136 200 1032 1288 1544 1800 5128 5384 5640 5896 8264 8328 8392 9480 12488 32776 36872 45064'\n",
    "#qcstr = '8 72 136 200 1288 2056 2120 2184 2248'\n",
    "\n",
    "print 'valid:',qcstr\n",
    "# Mixed : \n",
    "#\n",
    "\n",
    "for i in np.sort(np.array(qcstr.split()).astype(np.uint16)):\n",
    "    print 'There are',(qa2_ == i).sum(),'values with value %d'%i,bin(i)\n",
    "    print r_[qa2_ == i]\n",
    "    print '========================'"
   ]
  },
  {
   "cell_type": "code",
   "execution_count": 7,
   "metadata": {
    "collapsed": false
   },
   "outputs": [
    {
     "name": "stdout",
     "output_type": "stream",
     "text": [
      " 8 72 136 200\n",
      "snow         [False False False False]\n",
      "good         [ True  True  True  True]\n",
      "good no snow [ True  True  True  True]\n",
      "good snow    [False False False False]\n"
     ]
    }
   ],
   "source": [
    "def good_qa(t,good4=[0b001000],bitmask=2**6-1):\n",
    "    bitmask = 2**6-1\n",
    "    t = np.uint16(t)\n",
    "    m = t & bitmask\n",
    "    if m == 0b001000:\n",
    "        return True\n",
    "    \n",
    "def snow_qa(tt):\n",
    "    # bit 12 MOD35 snow/ice flag\n",
    "    # bit 15 internal snow algorithm flag\n",
    "    tt = np.uint16(np.array(tt))\n",
    "    s1 = (tt & 2**12)>>12\n",
    "    s2 = (tt & 2**15)>>15\n",
    "    snow = np.logical_or(s1,s2)\n",
    "    return snow\n",
    "\n",
    "goodqa = np.sort(np.array(qcstr.split()).astype(np.uint16))\n",
    "\n",
    "def modis_qa(tt,good=goodqa):\n",
    "    # work on array\n",
    "    tt = np.uint16(np.array(tt))\n",
    "    s0 = tt == good[0]\n",
    "    for g in good[1:]:\n",
    "        s0 = np.logical_or(s0,tt == g)\n",
    "    return s0\n",
    "\n",
    "def modis_qa_broken(tt,good4=[0b001000],bitmask=2**6-1):\n",
    "    # work on array\n",
    "    tt = np.uint16(np.array(tt))\n",
    "    # land no cloud\n",
    "    s0 = (tt & bitmask) == good4[0]\n",
    "    '''\n",
    "     clear, land (NB - land only!)\n",
    "     bit 10 : internal cloud algorithm flag  -- trust this\n",
    "     bit 13 : Pixel is adjacent to cloud -- best not use if possible\n",
    "     bit 12 : MOD35 snow/ice flag -- exclude snow in this test\n",
    "     bit 2: cloud shadow - trust this\n",
    "     bit 15 : internal snow algorithm -- exclude snow in this test\n",
    "    '''    \n",
    "    for i in [10,13,12,2,15]:\n",
    "        s0 = np.logical_or(s0,(tt & 2**i)>>i)\n",
    "    return s0\n",
    "    \n",
    "#qcstr = '8 72 136 200 1032 1288 1544 1800 5128 5384 5640 5896 8264 8328 8392 9480 12488 32776 36872 45064'\n",
    "\n",
    "print qcstr\n",
    "tt = np.sort(np.array(qcstr.split()).astype(np.uint16))\n",
    "\n",
    "print 'snow        ',snow_qa(tt)\n",
    "print 'good        ',modis_qa(tt)\n",
    "print 'good no snow',np.logical_and(modis_qa(tt),~snow_qa(tt))\n",
    "print 'good snow   ',np.logical_and(modis_qa(tt),snow_qa(tt))\n"
   ]
  },
  {
   "cell_type": "markdown",
   "metadata": {},
   "source": [
    "## narrow to broadband conversion"
   ]
  },
  {
   "cell_type": "markdown",
   "metadata": {},
   "source": [
    "We use linear equations of the form:\n",
    "\n",
    "$$\n",
    "B = w^T b\n",
    "$$\n",
    "\n",
    "where vector $B$ has 3 broad wavebands, $b$ is a vector of the 7 MODIS bands, and $w$ is the weighting matrix.\n",
    "\n",
    "We also have an uncertainty matrix for the MODIS observations, following Roy et al. (2005) RSE 97: 137-162.\n",
    "\n",
    "We use the narrow to broadband coefficients of [Liang, 2000](https://www.google.co.uk/url?sa=t&rct=j&q=&esrc=s&source=web&cd=1&cad=rja&uact=8&ved=0ahUKEwiOzKrEvYzLAhVBURoKHd7ECxIQFggiMAA&url=http%3A%2F%2Fterpconnect.umd.edu%2F~sliang%2Fpapers%2FRSE.N2B.1.pdf&usg=AFQjCNFDnawdSlcNvMTkNTSdSr447wfbnA&sig2=7SFNU8MS65X9aaVBtv30ow)"
   ]
  },
  {
   "cell_type": "code",
   "execution_count": 8,
   "metadata": {
    "collapsed": false
   },
   "outputs": [
    {
     "name": "stdout",
     "output_type": "stream",
     "text": [
      "[ 1.001   0.999   1.0015]\n",
      "[ 1.  1.  1.]\n"
     ]
    }
   ],
   "source": [
    "# compute modis weights from Roy et al. (2005) RSE 97: 137-162\n",
    "modissd = np.array([0.004, 0.015, 0.003, 0.004, 0.013, 0.010, 0.006])\n",
    "\n",
    "RI = np.matrix(np.diag(modissd*modissd)).I\n",
    "\n",
    "bands = ['VIS','NIR','SW']\n",
    "\n",
    "# modis narrow to broadband coefficients from Liang, 2000\n",
    "BBweights = np.array([[0.331,0.000, 0.424,0.246,0.000,0.000,0.000, 0.0000],\\\n",
    "                      [0.039,0.504,-0.071,0.105,0.252,0.069,0.101, 0.0000],\\\n",
    "                      [0.160,0.291, 0.243,0.116,0.112,0.000,0.081,-0.0015]])\n",
    "\n",
    "print BBweights.sum(axis=1)\n",
    "# renormalise\n",
    "BBweights = (BBweights.T / BBweights.sum(axis=1)).T\n",
    "print BBweights.sum(axis=1)"
   ]
  },
  {
   "cell_type": "code",
   "execution_count": 9,
   "metadata": {
    "collapsed": false
   },
   "outputs": [],
   "source": [
    "# form the subset of the weights matrix\n",
    "H = np.matrix(BBweights[:,:-1]).T\n",
    "\n",
    "# then the uncertainty (4x4 matrix) is\n",
    "BBuncertainty_weight = (H.T * RI * H)"
   ]
  },
  {
   "cell_type": "code",
   "execution_count": 10,
   "metadata": {
    "collapsed": false
   },
   "outputs": [
    {
     "name": "stdout",
     "output_type": "stream",
     "text": [
      "mod09\n",
      "\tpotential obs: mod09 5727\n",
      "pass tt1: 5572 pass tt1 and tt: 722\n",
      "r [[ 0.0357  0.0555  0.0486  0.0446  0.0508  0.0469  0.0404  0.056   0.049 ]\n",
      " [ 0.1135  0.1689  0.1353  0.1227  0.1403  0.1593  0.1497  0.1909  0.1962]\n",
      " [ 0.0171  0.0285  0.0248  0.0228  0.0232  0.0231  0.0194  0.0195  0.0259]\n",
      " [ 0.0287  0.0489  0.0398  0.0385  0.042   0.0414  0.0369  0.0495  0.0507]\n",
      " [ 0.1624  0.2316  0.1925  0.1715  0.1922  0.2186  0.1963  0.2536  0.2346]\n",
      " [ 0.1229  0.1892  0.1623  0.1423  0.167   0.1798  0.1609  0.1983  0.1817]\n",
      " [ 0.143   0.1131  0.0993  0.0851  0.1445  0.1083  0.117   0.1784  0.0994]]\n",
      "myd09\n",
      "\tpotential obs: myd09 4916\n",
      "pass tt1: 4793 pass tt1 and tt: 576\n",
      "r [[ 0.0221  0.0163  0.0166  0.0218  0.0206  0.0316  0.032   0.0178  0.0478]\n",
      " [ 0.4122  0.3301  0.403   0.3954  0.3459  0.2978  0.2566  0.2837  0.3174]\n",
      " [ 0.0123  0.0087  0.0042  0.0114  0.0123  0.0153  0.0184  0.0098  0.018 ]\n",
      " [ 0.0391  0.0289  0.0322  0.0358  0.0341  0.0406  0.0387  0.0294  0.0493]\n",
      " [ 0.3699  0.2797  0.3629  0.3602  0.323   0.2659  0.2392  0.2703  0.3086]\n",
      " [ 0.2005  0.1404  0.191   0.2036  0.1748  0.1389  0.1189  0.1447  0.203 ]\n",
      " [ 0.0715  0.0434  0.066   0.0701  0.063   0.0525  0.0408  0.0487  0.1037]]\n"
     ]
    }
   ],
   "source": [
    "# sort MODIS data\n",
    "for k in ncdata.keys():\n",
    "    # MODIS processing\n",
    "    #\n",
    "    # reflectance observations\n",
    "    monkey = 'MODIS_Grid_500m_2D_Data_Fields_sur_refl_b%02d'\n",
    "    monkey1 = monkey%1\n",
    "    if monkey1 in ncdata[k].keys():\n",
    "        print k\n",
    "\n",
    "        modiswt = 1./(modissd*modissd)\n",
    "        print '\\tpotential obs:',k,len(ncdata[k][monkey1])\n",
    "        ncdata[k]['reflectance'] = np.zeros((7,len(ncdata[k][monkey1])))\n",
    "        ncdata[k]['weight'] = np.zeros((7,len(ncdata[k][monkey1])))\n",
    "        for i in xrange(1,8):\n",
    "            ncdata[k]['reflectance'][i-1,:] = np.array(ncdata[k][monkey%i]).squeeze().astype(float) * 0.0001\n",
    "            ncdata[k]['weight'][i-1,:] = modiswt[i-1]\n",
    "\n",
    "                        \n",
    "        '''\n",
    "        'snow        ',snow_qa(tt)\n",
    "        'good        ',modis_qa(tt)\n",
    "        'good no snow',np.logical_and(modis_qa(tt),~snow_qa(tt))\n",
    "        'good snow   ',np.logical_and(modis_qa(tt),snow_qa(tt))\n",
    "        '''\n",
    "        # extract qa\n",
    "\n",
    "        # tt1 test gives True when the 2 MODLAND QA bits give 0 \n",
    "        tt1 = (np.array(ncdata[k]['MODIS_Grid_500m_2D_Data_Fields_QC_500m'])\\\n",
    "              .astype(np.uint32).squeeze() & 3) == 0\n",
    "        # how many affected?\n",
    "        print 'pass tt1:',(tt1).sum(),\n",
    "\n",
    "        # modis_qa(tt) test gives True if the 16 bit field is flagged 'good'\n",
    "        tt = np.array(ncdata[k]['MODIS_Grid_1km_2D_Data_Fields_state_1km']).squeeze()\n",
    "\n",
    "        # so modis_qa(tt) AND tt1\n",
    "        ncdata[k]['mask'] = np.logical_and(tt1,modis_qa(tt))\n",
    "        print 'pass tt1 and tt:',(ncdata[k]['mask']).sum()\n",
    "\n",
    "        for c in xrange(ncdata[k]['reflectance'].shape[0]):\n",
    "            ncdata[k]['reflectance'][c,~ncdata[k]['mask']] = 0.\n",
    "\n",
    "        # make a mask of zero or -ve reflectabnces\n",
    "        good =((ncdata[k]['reflectance'] <= 0).sum(axis=0) == 0)    \n",
    "            \n",
    "        ncdata[k]['mask'] = np.logical_and(good,ncdata[k]['mask'])\n",
    "        \n",
    "        # use this to show that myd gives some bands -ve\n",
    "        # test this by setting good to 1 everywhere\n",
    "        print 'r',ncdata[k]['reflectance'][:,(ncdata[k]['mask'])][:,:9]\n",
    "        #plt.figure()\n",
    "        #plt.plot()\n",
    "        \n",
    "        # apply the linear model to the mean\n",
    "        BBrefl = (np.dot(BBweights[:,:-1],ncdata[k]['reflectance']).T + BBweights[:,-1]).T\n",
    "        # narrow to broadband\n",
    "        ncdata[k]['BB_VIS'] = BBrefl[0]\n",
    "        ncdata[k]['BB_NIR'] = BBrefl[1]\n",
    "        ncdata[k]['BB_SW']  = BBrefl[2]\n",
    "\n",
    "        # uncertainty\n",
    "        #BBweight = np.dot(BBweights[:,:-1],ncdata[k]['weight'])\n",
    "        for b1,band1 in enumerate(['VIS','NIR','SW']):\n",
    "            for b2,band2 in enumerate(['VIS','NIR','SW']):\n",
    "                if b2 <= b1:\n",
    "                    term = 'weight_BB_%s_%s'%(band1,band2)\n",
    "                    ncdata[k][term] = BBuncertainty_weight[b1,b2]\n",
    "\n",
    "\n",
    "        ncdata[k]['mask_snow'] = np.logical_and(ncdata[k]['mask'],snow_qa(tt))\n",
    "        ncdata[k]['mask_nosnow'] = np.logical_and(ncdata[k]['mask'],~snow_qa(tt))\n",
    "        # obscov - use as a weighting term?\n",
    "        ncdata[k]['obscov'] = 0.01*np.array(ncdata['mod09']['MODIS_Grid_500m_2D_Data_Fields_obscov_500m']).squeeze().astype(float)\n",
    "\n",
    "        # angles\n",
    "        vza = 0.01*np.array(ncdata[k]['MODIS_Grid_1km_2D_Data_Fields_SensorZenith']).squeeze().astype(float)\n",
    "        sza = 0.01*np.array(ncdata[k]['MODIS_Grid_1km_2D_Data_Fields_SolarZenith']).squeeze().astype(float)\n",
    "        vaa = 0.01*np.array(ncdata[k]['MODIS_Grid_1km_2D_Data_Fields_SensorAzimuth']).squeeze().astype(float)\n",
    "        saa = 0.01*np.array(ncdata[k]['MODIS_Grid_1km_2D_Data_Fields_SolarAzimuth']).squeeze().astype(float)\n",
    "        kern = kernels.Kernels(vza, sza, vaa-saa, doIntegrals=False, RossHS=False, RossType='Thick',\\\n",
    "                 LiType='Sparse', normalise=1, nbar=0., RecipFlag=True, MODISSPARSE=True)\n",
    "\n",
    "        ncdata[k]['Kvol'],ncdata[k]['Kgeo'] = np.asarray(kern.Ross),np.asarray(kern.Li)\n",
    "\n"
   ]
  },
  {
   "cell_type": "code",
   "execution_count": 11,
   "metadata": {
    "collapsed": false
   },
   "outputs": [
    {
     "data": {
      "text/plain": [
       "(4916,)"
      ]
     },
     "execution_count": 11,
     "metadata": {},
     "output_type": "execute_result"
    }
   ],
   "source": [
    "k = 'myd09'\n",
    "((ncdata[k]['reflectance'] <= 0).sum(axis=0) == 0).shape"
   ]
  },
  {
   "cell_type": "markdown",
   "metadata": {},
   "source": [
    "## Examine MODIS data"
   ]
  },
  {
   "cell_type": "markdown",
   "metadata": {},
   "source": [
    "We can now examine the MODIS broad band reflectance data.\n",
    "\n",
    "We can look in particular at whether the two formulae given by Liang for direct and diffuse effects make any real difference.\n",
    "\n",
    "We can also examine the quality and quantity of snow and no snow data:"
   ]
  },
  {
   "cell_type": "code",
   "execution_count": 12,
   "metadata": {
    "collapsed": false
   },
   "outputs": [
    {
     "name": "stdout",
     "output_type": "stream",
     "text": [
      "0.00572187581121\n",
      "0.0177156328726\n",
      "0.0102030218372\n",
      "0.00572187581121\n",
      "0.0177156328726\n",
      "0.0102030218372\n",
      "0.00572187581121\n",
      "0.0177156328726\n",
      "0.0102030218372\n",
      "0.00572187581121\n",
      "0.0177156328726\n",
      "0.0102030218372\n"
     ]
    },
    {
     "data": {
      "text/plain": [
       "(0, 0.059999999999999998)"
      ]
     },
     "execution_count": 12,
     "metadata": {},
     "output_type": "execute_result"
    },
    {
     "data": {
      "image/png": "[encoded data removed]",
      "text/plain": [
       "<matplotlib.figure.Figure at 0x1090d9350>"
      ]
     },
     "metadata": {},
     "output_type": "display_data"
    },
    {
     "data": {
      "image/png": "[encoded data removed]",
      "text/plain": [
       "<matplotlib.figure.Figure at 0x103f94590>"
      ]
     },
     "metadata": {},
     "output_type": "display_data"
    }
   ],
   "source": [
    "bands = ['VIS','NIR','SW']\n",
    "\n",
    "plt.figure(figsize=(15,3))\n",
    "for mod in ['mod09','myd09']:\n",
    "    for i in xrange(3):\n",
    "        mm = ncdata[mod]['mask_nosnow']\n",
    "        x = ncdata[mod]['date'][mm]\n",
    "        y = ncdata[mod]['BB_%s'%bands[i]][mm]\n",
    "        w = ncdata[mod]['weight_BB_%s_%s'%(bands[i],bands[i])]\n",
    "        unc =  np.sqrt(1/w)\n",
    "        print unc\n",
    "        plt.plot(x,y,'+',label=mod+bands[i])\n",
    "plt.xlabel('time')\n",
    "plt.xlabel('reflectance')\n",
    "plt.legend(loc='best')\n",
    "plt.title('no snow')\n",
    "plt.ylim(0,None)\n",
    "\n",
    "plt.figure(figsize=(15,3))\n",
    "for mod in ['mod09','myd09']:\n",
    "    for i in xrange(3):\n",
    "        mm = ncdata[mod]['mask_snow']\n",
    "        x = ncdata[mod]['date'][mm]\n",
    "        y = ncdata[mod]['BB_%s'%bands[i]][mm]\n",
    "        w = ncdata[mod]['weight_BB_%s_%s'%(bands[i],bands[i])]\n",
    "        unc =  np.sqrt(1/w)\n",
    "        print unc\n",
    "        plt.plot(x,y,'+',label=mod+bands[i])\n",
    "plt.xlabel('time')\n",
    "plt.xlabel('reflectance')\n",
    "plt.legend(loc='best')\n",
    "plt.title('snow')\n",
    "plt.ylim(0,None)"
   ]
  },
  {
   "cell_type": "code",
   "execution_count": 13,
   "metadata": {
    "collapsed": false
   },
   "outputs": [
    {
     "name": "stdout",
     "output_type": "stream",
     "text": [
      "bbdr.flags\n",
      "bbdr.meris\n",
      "bbdr.vgt\n",
      "ga.brdf.merge\n",
      "ga.brdf.nosnow\n",
      "ga.brdf.snow\n",
      "mod09\n",
      "myd09\n",
      "prior.v2.nosnow\n",
      "prior.v2.snow\n",
      "prior.v2.snownosnow\n"
     ]
    }
   ],
   "source": [
    "# save objects\n",
    "for k in datakeys:\n",
    "    print k\n",
    "    try:\n",
    "        save_obj(ncdata[k],'obj/'+k+'_s2.0_')\n",
    "    except:\n",
    "        pass"
   ]
  }
 ],
 "metadata": {
  "kernelspec": {
   "display_name": "Python 2",
   "language": "python",
   "name": "python2"
  },
  "language_info": {
   "codemirror_mode": {
    "name": "ipython",
    "version": 2
   },
   "file_extension": ".py",
   "mimetype": "text/x-python",
   "name": "python",
   "nbconvert_exporter": "python",
   "pygments_lexer": "ipython2",
   "version": "2.7.10"
  }
 },
 "nbformat": 4,
 "nbformat_minor": 0
}
